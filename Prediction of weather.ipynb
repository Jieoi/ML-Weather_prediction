{
 "cells": [
  {
   "cell_type": "markdown",
   "id": "7661db6a",
   "metadata": {},
   "source": [
    "<h1>Prediction of weather</h1>"
   ]
  },
  {
   "cell_type": "markdown",
   "id": "373b15dd",
   "metadata": {},
   "source": [
    "From the aqueduct of Segovia to the Pont de Gard in France, mankind has always been battling nature and finding ways to survive in one way or another. In recent years, climate change is increasingly affecting the lives of everyone in the world. Extreme weather has also been more frequent. Weather situations such as heavy rainfall could happen quickly with little warning. In February and March this year, heavy rain hit southern Malaysia and Singapore, resulting in flash floods and even landslides in some cases. Thus, this report will try to reduce the severity of the impact on the people by attempting to predict rainfall based on a range of features. This report has made extensive reference to the book Deep Learning with Python by Francois Chollet. It is developed based on \"the universal workflow of machine learning\" described in chapter 4.5 of the book."
   ]
  },
  {
   "cell_type": "markdown",
   "id": "be1b5440",
   "metadata": {},
   "source": [
    "The cell below enables MathJax on the jupyter notebook. This is used to render the LaTeX code correctly in the submitted html version of the report."
   ]
  },
  {
   "cell_type": "code",
   "execution_count": 1,
   "id": "0f3a69fa",
   "metadata": {},
   "outputs": [
    {
     "data": {
      "application/javascript": [
       "MathJax.Hub.Config({\n",
       "  TeX: { \n",
       "    extensions: [\"color.js\"],\n",
       "    equationNumbers: { autoNumber: \"AMS\" },\n",
       "    Macros: { bm: \"\\\\boldsymbol\" }\n",
       "  },\n",
       "  displayAlign: \"center\",\n",
       "  \"HTML-CSS\": { linebreaks: { automatic: true } },\n",
       "  SVG: { linebreaks: { automatic: true } }\n",
       "});\n"
      ],
      "text/plain": [
       "<IPython.core.display.Javascript object>"
      ]
     },
     "metadata": {},
     "output_type": "display_data"
    }
   ],
   "source": [
    "%%javascript\n",
    "MathJax.Hub.Config({\n",
    "  TeX: { \n",
    "    extensions: [\"color.js\"],\n",
    "    equationNumbers: { autoNumber: \"AMS\" },\n",
    "    Macros: { bm: \"\\\\boldsymbol\" }\n",
    "  },\n",
    "  displayAlign: \"center\",\n",
    "  \"HTML-CSS\": { linebreaks: { automatic: true } },\n",
    "  SVG: { linebreaks: { automatic: true } }\n",
    "});\n"
   ]
  },
  {
   "cell_type": "markdown",
   "id": "d59376fd",
   "metadata": {},
   "source": [
    "<h2>Table of content</h2>"
   ]
  },
  {
   "cell_type": "markdown",
   "id": "7600af3f",
   "metadata": {},
   "source": [
    "[1. Defining the problem and assembling the dataset](#chpt1)\n",
    "\n",
    "[2. Choosing a measure of success](#chpt2)\n",
    "\n",
    "[3. Deciding on an evaluation protocol](#chpt3)\n",
    "\n",
    "[4. Prepare the data](#chpt4)\n",
    "\n",
    "[5. Developing a model that does better than a baseline](#chpt5)\n",
    "\n",
    "[6. Scaling up: developing a model that overfits](#chpt6)\n",
    "\n",
    "[7. Regularizing the model and tuning hyperparameters](#chpt7)"
   ]
  },
  {
   "cell_type": "markdown",
   "id": "7b07e133",
   "metadata": {},
   "source": [
    "<p style=\"page-break-after:always;\"></p>"
   ]
  },
  {
   "cell_type": "markdown",
   "id": "605f915f",
   "metadata": {},
   "source": [
    "<h2 id='chpt1'>1. Defining the problem and assembling the dataset</h2>"
   ]
  },
  {
   "cell_type": "markdown",
   "id": "82db06ef",
   "metadata": {},
   "source": [
    "<h3>1.1 Choice of input</h3>"
   ]
  },
  {
   "cell_type": "markdown",
   "id": "b07571bc",
   "metadata": {},
   "source": [
    "As chollet mentioned in Chapter 4.5.1, data availability is one of the limiting factor for a machine learning project. As this report targets to protect people from extreme weather situations, especially heavy rainfall, I have chosen a dataset from the [Australia Weather Data](https://www.kaggle.com/datasets/arunavakrchakraborty/australia-weather-data) avaliable on Kaggle. \n",
    "\n",
    "Based on the information avaliable on the website, this dataset covers a range of key weather conditions, such as rainfall, wind speed, humidity, and atmospheric pressure. Some of the data are also available at different times of the day. Moreover, the dataset has a large sample size as it contains weather observation daily for about <b>10 years</b>. Another feature that set this dataset apart from others is that this was <b>updated 6 months ago</b>. This is very important as it is very up-to-date.\n",
    "\n",
    "On the other hand, the data source has been quoted in the description of the dataset. It is obtained from the [Bureau of Meteorology of Australia](http://www.bom.gov.au/climate/data/). It is an opensource data from a <b>credible government agency</b>."
   ]
  },
  {
   "cell_type": "markdown",
   "id": "5fb9d2bf",
   "metadata": {},
   "source": [
    "<h3 id=\"chpt1.2\">1.2 Import the data and preliminary analysis</h3>"
   ]
  },
  {
   "cell_type": "markdown",
   "id": "a3923bf6",
   "metadata": {},
   "source": [
    "The data is avalaible for download from the above mentioned link. As describe on the webpage, it was apparent that the data has already been seperated into a test and training data in their original csv file. Both file are avaliable for download as 'Weather Test Data.csv' and 'Weather Training Data.csv'. However, the 'Weather Test Data.csv' is missing one column (RainTomorrow). This column is essential to the research. Thus, this paper will soly based on the 'Weather Training Data.csv'. It is still a sufficiently big dataset with <b>99516 unique values</b>. Although the data has already been explored and used for prediction, the exploration did not focus on the deep learning using neural network. This makes this report still <b>novel</b> to the topic."
   ]
  },
  {
   "cell_type": "code",
   "execution_count": 2,
   "id": "3ba50526",
   "metadata": {},
   "outputs": [],
   "source": [
    "# import modules for data processing\n",
    "import pandas as pd\n",
    "import numpy as np"
   ]
  },
  {
   "cell_type": "code",
   "execution_count": 3,
   "id": "01da3d15",
   "metadata": {
    "scrolled": false
   },
   "outputs": [
    {
     "data": {
      "text/html": [
       "<div>\n",
       "<style scoped>\n",
       "    .dataframe tbody tr th:only-of-type {\n",
       "        vertical-align: middle;\n",
       "    }\n",
       "\n",
       "    .dataframe tbody tr th {\n",
       "        vertical-align: top;\n",
       "    }\n",
       "\n",
       "    .dataframe thead th {\n",
       "        text-align: right;\n",
       "    }\n",
       "</style>\n",
       "<table border=\"1\" class=\"dataframe\">\n",
       "  <thead>\n",
       "    <tr style=\"text-align: right;\">\n",
       "      <th></th>\n",
       "      <th>row ID</th>\n",
       "      <th>Location</th>\n",
       "      <th>MinTemp</th>\n",
       "      <th>MaxTemp</th>\n",
       "      <th>Rainfall</th>\n",
       "      <th>Evaporation</th>\n",
       "      <th>Sunshine</th>\n",
       "      <th>WindGustDir</th>\n",
       "      <th>WindGustSpeed</th>\n",
       "      <th>WindDir9am</th>\n",
       "      <th>...</th>\n",
       "      <th>Humidity9am</th>\n",
       "      <th>Humidity3pm</th>\n",
       "      <th>Pressure9am</th>\n",
       "      <th>Pressure3pm</th>\n",
       "      <th>Cloud9am</th>\n",
       "      <th>Cloud3pm</th>\n",
       "      <th>Temp9am</th>\n",
       "      <th>Temp3pm</th>\n",
       "      <th>RainToday</th>\n",
       "      <th>RainTomorrow</th>\n",
       "    </tr>\n",
       "  </thead>\n",
       "  <tbody>\n",
       "    <tr>\n",
       "      <th>0</th>\n",
       "      <td>Row0</td>\n",
       "      <td>Albury</td>\n",
       "      <td>13.4</td>\n",
       "      <td>22.9</td>\n",
       "      <td>0.6</td>\n",
       "      <td>NaN</td>\n",
       "      <td>NaN</td>\n",
       "      <td>W</td>\n",
       "      <td>44.0</td>\n",
       "      <td>W</td>\n",
       "      <td>...</td>\n",
       "      <td>71.0</td>\n",
       "      <td>22.0</td>\n",
       "      <td>1007.7</td>\n",
       "      <td>1007.1</td>\n",
       "      <td>8.0</td>\n",
       "      <td>NaN</td>\n",
       "      <td>16.9</td>\n",
       "      <td>21.8</td>\n",
       "      <td>No</td>\n",
       "      <td>0</td>\n",
       "    </tr>\n",
       "    <tr>\n",
       "      <th>1</th>\n",
       "      <td>Row1</td>\n",
       "      <td>Albury</td>\n",
       "      <td>7.4</td>\n",
       "      <td>25.1</td>\n",
       "      <td>0.0</td>\n",
       "      <td>NaN</td>\n",
       "      <td>NaN</td>\n",
       "      <td>WNW</td>\n",
       "      <td>44.0</td>\n",
       "      <td>NNW</td>\n",
       "      <td>...</td>\n",
       "      <td>44.0</td>\n",
       "      <td>25.0</td>\n",
       "      <td>1010.6</td>\n",
       "      <td>1007.8</td>\n",
       "      <td>NaN</td>\n",
       "      <td>NaN</td>\n",
       "      <td>17.2</td>\n",
       "      <td>24.3</td>\n",
       "      <td>No</td>\n",
       "      <td>0</td>\n",
       "    </tr>\n",
       "    <tr>\n",
       "      <th>2</th>\n",
       "      <td>Row2</td>\n",
       "      <td>Albury</td>\n",
       "      <td>17.5</td>\n",
       "      <td>32.3</td>\n",
       "      <td>1.0</td>\n",
       "      <td>NaN</td>\n",
       "      <td>NaN</td>\n",
       "      <td>W</td>\n",
       "      <td>41.0</td>\n",
       "      <td>ENE</td>\n",
       "      <td>...</td>\n",
       "      <td>82.0</td>\n",
       "      <td>33.0</td>\n",
       "      <td>1010.8</td>\n",
       "      <td>1006.0</td>\n",
       "      <td>7.0</td>\n",
       "      <td>8.0</td>\n",
       "      <td>17.8</td>\n",
       "      <td>29.7</td>\n",
       "      <td>No</td>\n",
       "      <td>0</td>\n",
       "    </tr>\n",
       "    <tr>\n",
       "      <th>3</th>\n",
       "      <td>Row3</td>\n",
       "      <td>Albury</td>\n",
       "      <td>14.6</td>\n",
       "      <td>29.7</td>\n",
       "      <td>0.2</td>\n",
       "      <td>NaN</td>\n",
       "      <td>NaN</td>\n",
       "      <td>WNW</td>\n",
       "      <td>56.0</td>\n",
       "      <td>W</td>\n",
       "      <td>...</td>\n",
       "      <td>55.0</td>\n",
       "      <td>23.0</td>\n",
       "      <td>1009.2</td>\n",
       "      <td>1005.4</td>\n",
       "      <td>NaN</td>\n",
       "      <td>NaN</td>\n",
       "      <td>20.6</td>\n",
       "      <td>28.9</td>\n",
       "      <td>No</td>\n",
       "      <td>0</td>\n",
       "    </tr>\n",
       "    <tr>\n",
       "      <th>4</th>\n",
       "      <td>Row4</td>\n",
       "      <td>Albury</td>\n",
       "      <td>7.7</td>\n",
       "      <td>26.7</td>\n",
       "      <td>0.0</td>\n",
       "      <td>NaN</td>\n",
       "      <td>NaN</td>\n",
       "      <td>W</td>\n",
       "      <td>35.0</td>\n",
       "      <td>SSE</td>\n",
       "      <td>...</td>\n",
       "      <td>48.0</td>\n",
       "      <td>19.0</td>\n",
       "      <td>1013.4</td>\n",
       "      <td>1010.1</td>\n",
       "      <td>NaN</td>\n",
       "      <td>NaN</td>\n",
       "      <td>16.3</td>\n",
       "      <td>25.5</td>\n",
       "      <td>No</td>\n",
       "      <td>0</td>\n",
       "    </tr>\n",
       "  </tbody>\n",
       "</table>\n",
       "<p>5 rows × 23 columns</p>\n",
       "</div>"
      ],
      "text/plain": [
       "  row ID Location  MinTemp  MaxTemp  Rainfall  Evaporation  Sunshine  \\\n",
       "0   Row0   Albury     13.4     22.9       0.6          NaN       NaN   \n",
       "1   Row1   Albury      7.4     25.1       0.0          NaN       NaN   \n",
       "2   Row2   Albury     17.5     32.3       1.0          NaN       NaN   \n",
       "3   Row3   Albury     14.6     29.7       0.2          NaN       NaN   \n",
       "4   Row4   Albury      7.7     26.7       0.0          NaN       NaN   \n",
       "\n",
       "  WindGustDir  WindGustSpeed WindDir9am  ... Humidity9am  Humidity3pm  \\\n",
       "0           W           44.0          W  ...        71.0         22.0   \n",
       "1         WNW           44.0        NNW  ...        44.0         25.0   \n",
       "2           W           41.0        ENE  ...        82.0         33.0   \n",
       "3         WNW           56.0          W  ...        55.0         23.0   \n",
       "4           W           35.0        SSE  ...        48.0         19.0   \n",
       "\n",
       "   Pressure9am  Pressure3pm  Cloud9am  Cloud3pm  Temp9am  Temp3pm  RainToday  \\\n",
       "0       1007.7       1007.1       8.0       NaN     16.9     21.8         No   \n",
       "1       1010.6       1007.8       NaN       NaN     17.2     24.3         No   \n",
       "2       1010.8       1006.0       7.0       8.0     17.8     29.7         No   \n",
       "3       1009.2       1005.4       NaN       NaN     20.6     28.9         No   \n",
       "4       1013.4       1010.1       NaN       NaN     16.3     25.5         No   \n",
       "\n",
       "   RainTomorrow  \n",
       "0             0  \n",
       "1             0  \n",
       "2             0  \n",
       "3             0  \n",
       "4             0  \n",
       "\n",
       "[5 rows x 23 columns]"
      ]
     },
     "execution_count": 3,
     "metadata": {},
     "output_type": "execute_result"
    }
   ],
   "source": [
    "org_data = pd.read_csv('data/Weather Training Data.csv')\n",
    "org_data.head()"
   ]
  },
  {
   "cell_type": "code",
   "execution_count": 4,
   "id": "888364ce",
   "metadata": {
    "scrolled": true
   },
   "outputs": [
    {
     "data": {
      "text/html": [
       "<div>\n",
       "<style scoped>\n",
       "    .dataframe tbody tr th:only-of-type {\n",
       "        vertical-align: middle;\n",
       "    }\n",
       "\n",
       "    .dataframe tbody tr th {\n",
       "        vertical-align: top;\n",
       "    }\n",
       "\n",
       "    .dataframe thead th {\n",
       "        text-align: right;\n",
       "    }\n",
       "</style>\n",
       "<table border=\"1\" class=\"dataframe\">\n",
       "  <thead>\n",
       "    <tr style=\"text-align: right;\">\n",
       "      <th></th>\n",
       "      <th>MinTemp</th>\n",
       "      <th>MaxTemp</th>\n",
       "      <th>Rainfall</th>\n",
       "      <th>Evaporation</th>\n",
       "      <th>Sunshine</th>\n",
       "      <th>WindGustSpeed</th>\n",
       "      <th>WindSpeed9am</th>\n",
       "      <th>WindSpeed3pm</th>\n",
       "      <th>Humidity9am</th>\n",
       "      <th>Humidity3pm</th>\n",
       "      <th>Pressure9am</th>\n",
       "      <th>Pressure3pm</th>\n",
       "      <th>Cloud9am</th>\n",
       "      <th>Cloud3pm</th>\n",
       "      <th>Temp9am</th>\n",
       "      <th>Temp3pm</th>\n",
       "      <th>RainTomorrow</th>\n",
       "    </tr>\n",
       "  </thead>\n",
       "  <tbody>\n",
       "    <tr>\n",
       "      <th>count</th>\n",
       "      <td>99073.000000</td>\n",
       "      <td>99286.000000</td>\n",
       "      <td>98537.000000</td>\n",
       "      <td>56985.00000</td>\n",
       "      <td>52199.000000</td>\n",
       "      <td>93036.000000</td>\n",
       "      <td>98581.000000</td>\n",
       "      <td>97681.000000</td>\n",
       "      <td>98283.000000</td>\n",
       "      <td>97010.000000</td>\n",
       "      <td>89768.000000</td>\n",
       "      <td>89780.000000</td>\n",
       "      <td>61944.000000</td>\n",
       "      <td>59514.000000</td>\n",
       "      <td>98902.000000</td>\n",
       "      <td>97612.000000</td>\n",
       "      <td>99516.000000</td>\n",
       "    </tr>\n",
       "    <tr>\n",
       "      <th>mean</th>\n",
       "      <td>12.176266</td>\n",
       "      <td>23.218513</td>\n",
       "      <td>2.353024</td>\n",
       "      <td>5.46132</td>\n",
       "      <td>7.615090</td>\n",
       "      <td>39.976966</td>\n",
       "      <td>14.004849</td>\n",
       "      <td>18.650464</td>\n",
       "      <td>68.866376</td>\n",
       "      <td>51.433296</td>\n",
       "      <td>1017.684638</td>\n",
       "      <td>1015.286204</td>\n",
       "      <td>4.447985</td>\n",
       "      <td>4.519122</td>\n",
       "      <td>16.970041</td>\n",
       "      <td>21.681340</td>\n",
       "      <td>0.224677</td>\n",
       "    </tr>\n",
       "    <tr>\n",
       "      <th>std</th>\n",
       "      <td>6.390882</td>\n",
       "      <td>7.115072</td>\n",
       "      <td>8.487866</td>\n",
       "      <td>4.16249</td>\n",
       "      <td>3.783008</td>\n",
       "      <td>13.581524</td>\n",
       "      <td>8.902323</td>\n",
       "      <td>8.801827</td>\n",
       "      <td>19.074951</td>\n",
       "      <td>20.777616</td>\n",
       "      <td>7.110166</td>\n",
       "      <td>7.045189</td>\n",
       "      <td>2.886580</td>\n",
       "      <td>2.716618</td>\n",
       "      <td>6.488961</td>\n",
       "      <td>6.931681</td>\n",
       "      <td>0.417372</td>\n",
       "    </tr>\n",
       "    <tr>\n",
       "      <th>min</th>\n",
       "      <td>-8.500000</td>\n",
       "      <td>-4.100000</td>\n",
       "      <td>0.000000</td>\n",
       "      <td>0.00000</td>\n",
       "      <td>0.000000</td>\n",
       "      <td>6.000000</td>\n",
       "      <td>0.000000</td>\n",
       "      <td>0.000000</td>\n",
       "      <td>0.000000</td>\n",
       "      <td>0.000000</td>\n",
       "      <td>980.500000</td>\n",
       "      <td>978.200000</td>\n",
       "      <td>0.000000</td>\n",
       "      <td>0.000000</td>\n",
       "      <td>-7.000000</td>\n",
       "      <td>-5.100000</td>\n",
       "      <td>0.000000</td>\n",
       "    </tr>\n",
       "    <tr>\n",
       "      <th>25%</th>\n",
       "      <td>7.600000</td>\n",
       "      <td>17.900000</td>\n",
       "      <td>0.000000</td>\n",
       "      <td>2.60000</td>\n",
       "      <td>4.800000</td>\n",
       "      <td>31.000000</td>\n",
       "      <td>7.000000</td>\n",
       "      <td>13.000000</td>\n",
       "      <td>57.000000</td>\n",
       "      <td>37.000000</td>\n",
       "      <td>1013.000000</td>\n",
       "      <td>1010.500000</td>\n",
       "      <td>1.000000</td>\n",
       "      <td>2.000000</td>\n",
       "      <td>12.300000</td>\n",
       "      <td>16.600000</td>\n",
       "      <td>0.000000</td>\n",
       "    </tr>\n",
       "    <tr>\n",
       "      <th>50%</th>\n",
       "      <td>12.000000</td>\n",
       "      <td>22.600000</td>\n",
       "      <td>0.000000</td>\n",
       "      <td>4.80000</td>\n",
       "      <td>8.400000</td>\n",
       "      <td>39.000000</td>\n",
       "      <td>13.000000</td>\n",
       "      <td>19.000000</td>\n",
       "      <td>70.000000</td>\n",
       "      <td>52.000000</td>\n",
       "      <td>1017.700000</td>\n",
       "      <td>1015.300000</td>\n",
       "      <td>5.000000</td>\n",
       "      <td>5.000000</td>\n",
       "      <td>16.700000</td>\n",
       "      <td>21.100000</td>\n",
       "      <td>0.000000</td>\n",
       "    </tr>\n",
       "    <tr>\n",
       "      <th>75%</th>\n",
       "      <td>16.800000</td>\n",
       "      <td>28.200000</td>\n",
       "      <td>0.800000</td>\n",
       "      <td>7.40000</td>\n",
       "      <td>10.600000</td>\n",
       "      <td>48.000000</td>\n",
       "      <td>19.000000</td>\n",
       "      <td>24.000000</td>\n",
       "      <td>83.000000</td>\n",
       "      <td>65.000000</td>\n",
       "      <td>1022.400000</td>\n",
       "      <td>1020.000000</td>\n",
       "      <td>7.000000</td>\n",
       "      <td>7.000000</td>\n",
       "      <td>21.500000</td>\n",
       "      <td>26.400000</td>\n",
       "      <td>0.000000</td>\n",
       "    </tr>\n",
       "    <tr>\n",
       "      <th>max</th>\n",
       "      <td>33.900000</td>\n",
       "      <td>48.100000</td>\n",
       "      <td>371.000000</td>\n",
       "      <td>86.20000</td>\n",
       "      <td>14.500000</td>\n",
       "      <td>135.000000</td>\n",
       "      <td>130.000000</td>\n",
       "      <td>87.000000</td>\n",
       "      <td>100.000000</td>\n",
       "      <td>100.000000</td>\n",
       "      <td>1041.000000</td>\n",
       "      <td>1039.600000</td>\n",
       "      <td>9.000000</td>\n",
       "      <td>9.000000</td>\n",
       "      <td>40.200000</td>\n",
       "      <td>46.700000</td>\n",
       "      <td>1.000000</td>\n",
       "    </tr>\n",
       "  </tbody>\n",
       "</table>\n",
       "</div>"
      ],
      "text/plain": [
       "            MinTemp       MaxTemp      Rainfall  Evaporation      Sunshine  \\\n",
       "count  99073.000000  99286.000000  98537.000000  56985.00000  52199.000000   \n",
       "mean      12.176266     23.218513      2.353024      5.46132      7.615090   \n",
       "std        6.390882      7.115072      8.487866      4.16249      3.783008   \n",
       "min       -8.500000     -4.100000      0.000000      0.00000      0.000000   \n",
       "25%        7.600000     17.900000      0.000000      2.60000      4.800000   \n",
       "50%       12.000000     22.600000      0.000000      4.80000      8.400000   \n",
       "75%       16.800000     28.200000      0.800000      7.40000     10.600000   \n",
       "max       33.900000     48.100000    371.000000     86.20000     14.500000   \n",
       "\n",
       "       WindGustSpeed  WindSpeed9am  WindSpeed3pm   Humidity9am   Humidity3pm  \\\n",
       "count   93036.000000  98581.000000  97681.000000  98283.000000  97010.000000   \n",
       "mean       39.976966     14.004849     18.650464     68.866376     51.433296   \n",
       "std        13.581524      8.902323      8.801827     19.074951     20.777616   \n",
       "min         6.000000      0.000000      0.000000      0.000000      0.000000   \n",
       "25%        31.000000      7.000000     13.000000     57.000000     37.000000   \n",
       "50%        39.000000     13.000000     19.000000     70.000000     52.000000   \n",
       "75%        48.000000     19.000000     24.000000     83.000000     65.000000   \n",
       "max       135.000000    130.000000     87.000000    100.000000    100.000000   \n",
       "\n",
       "        Pressure9am   Pressure3pm      Cloud9am      Cloud3pm       Temp9am  \\\n",
       "count  89768.000000  89780.000000  61944.000000  59514.000000  98902.000000   \n",
       "mean    1017.684638   1015.286204      4.447985      4.519122     16.970041   \n",
       "std        7.110166      7.045189      2.886580      2.716618      6.488961   \n",
       "min      980.500000    978.200000      0.000000      0.000000     -7.000000   \n",
       "25%     1013.000000   1010.500000      1.000000      2.000000     12.300000   \n",
       "50%     1017.700000   1015.300000      5.000000      5.000000     16.700000   \n",
       "75%     1022.400000   1020.000000      7.000000      7.000000     21.500000   \n",
       "max     1041.000000   1039.600000      9.000000      9.000000     40.200000   \n",
       "\n",
       "            Temp3pm  RainTomorrow  \n",
       "count  97612.000000  99516.000000  \n",
       "mean      21.681340      0.224677  \n",
       "std        6.931681      0.417372  \n",
       "min       -5.100000      0.000000  \n",
       "25%       16.600000      0.000000  \n",
       "50%       21.100000      0.000000  \n",
       "75%       26.400000      0.000000  \n",
       "max       46.700000      1.000000  "
      ]
     },
     "execution_count": 4,
     "metadata": {},
     "output_type": "execute_result"
    }
   ],
   "source": [
    "org_data.describe()"
   ]
  },
  {
   "cell_type": "code",
   "execution_count": 5,
   "id": "a8cc37e7",
   "metadata": {},
   "outputs": [
    {
     "name": "stdout",
     "output_type": "stream",
     "text": [
      "Number of no raining days:77157\n",
      "Number of raining days:22359\n"
     ]
    }
   ],
   "source": [
    "#check if the classification is unbalanced\n",
    "num_norain=(org_data['RainTomorrow']==0).sum()\n",
    "num_rain=(org_data['RainTomorrow']==1).sum()\n",
    "\n",
    "print('Number of no raining days:'+str(num_norain))\n",
    "print('Number of raining days:'+str(num_rain))"
   ]
  },
  {
   "cell_type": "markdown",
   "id": "9e8456e8",
   "metadata": {},
   "source": [
    "Based on the above analysis, there are some <b>missing values</b> that need to be cleaned before carrying out the machine learning process. Some of the values only have slightly more than 50000 inputs. The <b>target feature</b> to be predicted is located in the last column 'RainTomorrow', which contains a boolean value of 0 or 1. This column has <b>99516 data entries</b>. Missing values for all columns, except for the target feature could be imputed using <b>K Nearest Neightbour</b>. As the number of days that are raining is about 3 times smaller than that of the days that are not raining. As the difference between the two classes is significant, the dataset is <b>imbalanced</b>."
   ]
  },
  {
   "cell_type": "markdown",
   "id": "1edbb81a",
   "metadata": {},
   "source": [
    "<h3>1.3 Result to be predicted</h3>"
   ]
  },
  {
   "cell_type": "markdown",
   "id": "a6f41253",
   "metadata": {},
   "source": [
    "The result of this machine learning algorithm should be able to predict whether it will be raining tomorrow. It will be categorised into exclusively two different categories, raining or not raining. In machine learning terms, as described in chapter 3.4 of Deep Learning with Python by Chollet, this will be a two-class classification or *binary classification*. There will be two output classes ending with a 'Dense' layer with a 'sigmoid' activation. Stacking the 'Dense' layer with 'relu' activation is recommended by the book to solve a larger scale of problems. For the optimizer, \"rmspop\" is recommended as a suitable choice. The result should be a probability between 0 and 1. "
   ]
  },
  {
   "cell_type": "markdown",
   "id": "3ddb92aa",
   "metadata": {},
   "source": [
    "<h3>1.4 Assumptions</h3>"
   ]
  },
  {
   "cell_type": "markdown",
   "id": "7ab48c89",
   "metadata": {},
   "source": [
    "Although whether or not it will be raining tomorrow is a nonstationary problem as the weather condition such as evaporation, sunshine, and wind direction varies are affected significantly by the season as well. However, the dataset obtained is large enough to contain all the season's variation and potential abnormalities as it is collected for \"about 10 years\". Thus, it is fair to say that the dataset collected can fulfill the purpose of this research.\n",
    "\n",
    "As the weather is governed by the same set of physics and thermal dynamic rules, it could be suitable to apply a machine learning(ML) algorithm to it as ML assumes that the future behaves in a similar manner as in the past."
   ]
  },
  {
   "cell_type": "markdown",
   "id": "aec60bc1",
   "metadata": {},
   "source": [
    "<h2 id='chpt2'>2. Choosing a measure of success</h2>"
   ]
  },
  {
   "cell_type": "markdown",
   "id": "b8fb1664",
   "metadata": {},
   "source": [
    "A measure of success is of paramount importance for the optimization of the project. For this particular model, if the result identified is a false negative, the people could go to an area prone to flood and landslides without knowing the incoming danger. However, if the result is identified as a false positive, it is less of a concern as the lives are not in immediate danger. With reference to the equation of recall below, focuses on finding the percentage of True Positive correctly identified. \n",
    "\n",
    "In this case, identifying all potential rainfall is more important, and this model will focus on improving the <b>recall</b>. However, <b>precision</b> will also be calculated as part of the evaluation."
   ]
  },
  {
   "cell_type": "markdown",
   "id": "9b833a63",
   "metadata": {},
   "source": [
    "$$\n",
    "recall = \\frac{\\text{True Positive}}{\\text{True Positive} + \\text{False Negative}}\n",
    "$$"
   ]
  },
  {
   "cell_type": "markdown",
   "id": "fefaa04d",
   "metadata": {},
   "source": [
    "Moreover, accuracy is also a good measure of success. However, the preliminary data analysis in [section 1.2](#chpt1.2) showed that the size of the class of the none raining days is significantly larger than that of rainy days. The dataset is thus imbalanced. An imbalanced data could cause the accuracy result to be misleading as it tends towards the class with larger data size (none rainy days). Thus, a [<b>Balanced Accuracy Score</b>](https://scikit-learn.org/stable/modules/generated/sklearn.metrics.balanced_accuracy_score.html) is used to replace the accuracy as it takes into account the sample size in each class. "
   ]
  },
  {
   "cell_type": "markdown",
   "id": "0659f1ba",
   "metadata": {},
   "source": [
    "$$\n",
    "Balanced\\ Accuracy\\ Score = \\frac{1}{2}\\left(\\frac{True Positive}{True Positive + False Negative}+\\frac{True Negative}{True Negative + False Positive}\\right)\n",
    "$$"
   ]
  },
  {
   "cell_type": "markdown",
   "id": "5aa6bc1b",
   "metadata": {},
   "source": [
    "Lastly, although this problem has been identified as class-imbalanced, the <b>area under the receiver operating characteristic curve(ROC AUC)</b> will still be calculated as a supplementary to the above-mentioned measures."
   ]
  },
  {
   "cell_type": "markdown",
   "id": "7dba86de",
   "metadata": {},
   "source": [
    "<h2 id='chpt3'>3. Deciding on an evaluation protocol</h2>"
   ]
  },
  {
   "cell_type": "markdown",
   "id": "bb70dbe3",
   "metadata": {},
   "source": [
    "With reference to chapter 4.2.1 of Deep Learning with Python by Chollet, there are three main methods for evaluation. These include simple hold-out validation, k-fold validation, and iterated k-fold validation with shuffling. \n",
    "\n",
    "For this project, the <b>hold-out validation </b> and <b>k-fold validation</b> will be used. \n",
    "\n",
    "For the <b>hold-out validation</b>, a proportion of the data available is reserved as validating data ('held-out validation set'). The model is trained with the rest of the data and then test on the reserved set of data to evaluate the performance. This is one of the easiest methods for evaluation, with the only disadvantage as it needs more data to b set aside. This project has a <b>large dataset</b> of more than 90000 data entries, making the hold-out validation a good choice of evaluation.\n",
    "\n",
    "While the <b>k-fold validation</b> splits the data into partitions of the same size and iteratively trains/tests on different sets of partitions. This could help if the model showed large variations based on the train test split. As this situation is <b>potentially possible</b>, the model will use the k-fold validation as another evaluation protocol\n",
    "\n",
    "The last method with shuffling iterated k-fold validation, as the name suggests, applies the k-fold validation multiple times with different shuffling of data. This method is very helpful <b>if the data size is small</b>. However, as the dataset obtained has more than 90000 data entries, the model developed does not really need such practice."
   ]
  },
  {
   "cell_type": "markdown",
   "id": "47efdbde",
   "metadata": {},
   "source": [
    "<h2 id='chpt4'>4. Prepare the data</h2>"
   ]
  },
  {
   "cell_type": "markdown",
   "id": "d9b1b2d5",
   "metadata": {},
   "source": [
    "The data obtained on [section 1.2](#chpt1.2) needs to be reformat into tensors so that it can be feed into a deep learning neural network. Firstly, the data is cleaned on the column followed by the rows. This includes removing unused columns and using k nearest neighbour to impute the missing values in the row."
   ]
  },
  {
   "cell_type": "markdown",
   "id": "d902e81f",
   "metadata": {},
   "source": [
    "<h3 id=\"chpt4.1\">4.1 Data Cleaning for column</h3>"
   ]
  },
  {
   "cell_type": "markdown",
   "id": "9b08460d",
   "metadata": {},
   "source": [
    "The dataframe will first be saperated into weather_data which contains the <b>categorical weather information</b> and <b>numerical weather information</b>. This is done such that the KNN imputer can work based on numerical and categorical data separately. As the column rain tomorrow is not about the current weather, it will be in a different dataframe."
   ]
  },
  {
   "cell_type": "code",
   "execution_count": 6,
   "id": "009e8f72",
   "metadata": {},
   "outputs": [
    {
     "data": {
      "text/html": [
       "<div>\n",
       "<style scoped>\n",
       "    .dataframe tbody tr th:only-of-type {\n",
       "        vertical-align: middle;\n",
       "    }\n",
       "\n",
       "    .dataframe tbody tr th {\n",
       "        vertical-align: top;\n",
       "    }\n",
       "\n",
       "    .dataframe thead th {\n",
       "        text-align: right;\n",
       "    }\n",
       "</style>\n",
       "<table border=\"1\" class=\"dataframe\">\n",
       "  <thead>\n",
       "    <tr style=\"text-align: right;\">\n",
       "      <th></th>\n",
       "      <th>row ID</th>\n",
       "      <th>Location</th>\n",
       "      <th>MinTemp</th>\n",
       "      <th>MaxTemp</th>\n",
       "      <th>Rainfall</th>\n",
       "      <th>Evaporation</th>\n",
       "      <th>Sunshine</th>\n",
       "      <th>WindGustDir</th>\n",
       "      <th>WindGustSpeed</th>\n",
       "      <th>WindDir9am</th>\n",
       "      <th>...</th>\n",
       "      <th>Humidity9am</th>\n",
       "      <th>Humidity3pm</th>\n",
       "      <th>Pressure9am</th>\n",
       "      <th>Pressure3pm</th>\n",
       "      <th>Cloud9am</th>\n",
       "      <th>Cloud3pm</th>\n",
       "      <th>Temp9am</th>\n",
       "      <th>Temp3pm</th>\n",
       "      <th>RainToday</th>\n",
       "      <th>RainTomorrow</th>\n",
       "    </tr>\n",
       "  </thead>\n",
       "  <tbody>\n",
       "    <tr>\n",
       "      <th>0</th>\n",
       "      <td>Row0</td>\n",
       "      <td>Albury</td>\n",
       "      <td>13.4</td>\n",
       "      <td>22.9</td>\n",
       "      <td>0.6</td>\n",
       "      <td>NaN</td>\n",
       "      <td>NaN</td>\n",
       "      <td>W</td>\n",
       "      <td>44.0</td>\n",
       "      <td>W</td>\n",
       "      <td>...</td>\n",
       "      <td>71.0</td>\n",
       "      <td>22.0</td>\n",
       "      <td>1007.7</td>\n",
       "      <td>1007.1</td>\n",
       "      <td>8.0</td>\n",
       "      <td>NaN</td>\n",
       "      <td>16.9</td>\n",
       "      <td>21.8</td>\n",
       "      <td>No</td>\n",
       "      <td>0</td>\n",
       "    </tr>\n",
       "    <tr>\n",
       "      <th>1</th>\n",
       "      <td>Row1</td>\n",
       "      <td>Albury</td>\n",
       "      <td>7.4</td>\n",
       "      <td>25.1</td>\n",
       "      <td>0.0</td>\n",
       "      <td>NaN</td>\n",
       "      <td>NaN</td>\n",
       "      <td>WNW</td>\n",
       "      <td>44.0</td>\n",
       "      <td>NNW</td>\n",
       "      <td>...</td>\n",
       "      <td>44.0</td>\n",
       "      <td>25.0</td>\n",
       "      <td>1010.6</td>\n",
       "      <td>1007.8</td>\n",
       "      <td>NaN</td>\n",
       "      <td>NaN</td>\n",
       "      <td>17.2</td>\n",
       "      <td>24.3</td>\n",
       "      <td>No</td>\n",
       "      <td>0</td>\n",
       "    </tr>\n",
       "    <tr>\n",
       "      <th>2</th>\n",
       "      <td>Row2</td>\n",
       "      <td>Albury</td>\n",
       "      <td>17.5</td>\n",
       "      <td>32.3</td>\n",
       "      <td>1.0</td>\n",
       "      <td>NaN</td>\n",
       "      <td>NaN</td>\n",
       "      <td>W</td>\n",
       "      <td>41.0</td>\n",
       "      <td>ENE</td>\n",
       "      <td>...</td>\n",
       "      <td>82.0</td>\n",
       "      <td>33.0</td>\n",
       "      <td>1010.8</td>\n",
       "      <td>1006.0</td>\n",
       "      <td>7.0</td>\n",
       "      <td>8.0</td>\n",
       "      <td>17.8</td>\n",
       "      <td>29.7</td>\n",
       "      <td>No</td>\n",
       "      <td>0</td>\n",
       "    </tr>\n",
       "    <tr>\n",
       "      <th>3</th>\n",
       "      <td>Row3</td>\n",
       "      <td>Albury</td>\n",
       "      <td>14.6</td>\n",
       "      <td>29.7</td>\n",
       "      <td>0.2</td>\n",
       "      <td>NaN</td>\n",
       "      <td>NaN</td>\n",
       "      <td>WNW</td>\n",
       "      <td>56.0</td>\n",
       "      <td>W</td>\n",
       "      <td>...</td>\n",
       "      <td>55.0</td>\n",
       "      <td>23.0</td>\n",
       "      <td>1009.2</td>\n",
       "      <td>1005.4</td>\n",
       "      <td>NaN</td>\n",
       "      <td>NaN</td>\n",
       "      <td>20.6</td>\n",
       "      <td>28.9</td>\n",
       "      <td>No</td>\n",
       "      <td>0</td>\n",
       "    </tr>\n",
       "    <tr>\n",
       "      <th>4</th>\n",
       "      <td>Row4</td>\n",
       "      <td>Albury</td>\n",
       "      <td>7.7</td>\n",
       "      <td>26.7</td>\n",
       "      <td>0.0</td>\n",
       "      <td>NaN</td>\n",
       "      <td>NaN</td>\n",
       "      <td>W</td>\n",
       "      <td>35.0</td>\n",
       "      <td>SSE</td>\n",
       "      <td>...</td>\n",
       "      <td>48.0</td>\n",
       "      <td>19.0</td>\n",
       "      <td>1013.4</td>\n",
       "      <td>1010.1</td>\n",
       "      <td>NaN</td>\n",
       "      <td>NaN</td>\n",
       "      <td>16.3</td>\n",
       "      <td>25.5</td>\n",
       "      <td>No</td>\n",
       "      <td>0</td>\n",
       "    </tr>\n",
       "  </tbody>\n",
       "</table>\n",
       "<p>5 rows × 23 columns</p>\n",
       "</div>"
      ],
      "text/plain": [
       "  row ID Location  MinTemp  MaxTemp  Rainfall  Evaporation  Sunshine  \\\n",
       "0   Row0   Albury     13.4     22.9       0.6          NaN       NaN   \n",
       "1   Row1   Albury      7.4     25.1       0.0          NaN       NaN   \n",
       "2   Row2   Albury     17.5     32.3       1.0          NaN       NaN   \n",
       "3   Row3   Albury     14.6     29.7       0.2          NaN       NaN   \n",
       "4   Row4   Albury      7.7     26.7       0.0          NaN       NaN   \n",
       "\n",
       "  WindGustDir  WindGustSpeed WindDir9am  ... Humidity9am  Humidity3pm  \\\n",
       "0           W           44.0          W  ...        71.0         22.0   \n",
       "1         WNW           44.0        NNW  ...        44.0         25.0   \n",
       "2           W           41.0        ENE  ...        82.0         33.0   \n",
       "3         WNW           56.0          W  ...        55.0         23.0   \n",
       "4           W           35.0        SSE  ...        48.0         19.0   \n",
       "\n",
       "   Pressure9am  Pressure3pm  Cloud9am  Cloud3pm  Temp9am  Temp3pm  RainToday  \\\n",
       "0       1007.7       1007.1       8.0       NaN     16.9     21.8         No   \n",
       "1       1010.6       1007.8       NaN       NaN     17.2     24.3         No   \n",
       "2       1010.8       1006.0       7.0       8.0     17.8     29.7         No   \n",
       "3       1009.2       1005.4       NaN       NaN     20.6     28.9         No   \n",
       "4       1013.4       1010.1       NaN       NaN     16.3     25.5         No   \n",
       "\n",
       "   RainTomorrow  \n",
       "0             0  \n",
       "1             0  \n",
       "2             0  \n",
       "3             0  \n",
       "4             0  \n",
       "\n",
       "[5 rows x 23 columns]"
      ]
     },
     "execution_count": 6,
     "metadata": {},
     "output_type": "execute_result"
    }
   ],
   "source": [
    "#show the orginal data imported\n",
    "org_data.head()"
   ]
  },
  {
   "cell_type": "code",
   "execution_count": 7,
   "id": "5a903e63",
   "metadata": {},
   "outputs": [
    {
     "data": {
      "text/html": [
       "<div>\n",
       "<style scoped>\n",
       "    .dataframe tbody tr th:only-of-type {\n",
       "        vertical-align: middle;\n",
       "    }\n",
       "\n",
       "    .dataframe tbody tr th {\n",
       "        vertical-align: top;\n",
       "    }\n",
       "\n",
       "    .dataframe thead th {\n",
       "        text-align: right;\n",
       "    }\n",
       "</style>\n",
       "<table border=\"1\" class=\"dataframe\">\n",
       "  <thead>\n",
       "    <tr style=\"text-align: right;\">\n",
       "      <th></th>\n",
       "      <th>MinTemp</th>\n",
       "      <th>MaxTemp</th>\n",
       "      <th>Rainfall</th>\n",
       "      <th>Evaporation</th>\n",
       "      <th>Sunshine</th>\n",
       "      <th>WindGustSpeed</th>\n",
       "      <th>WindSpeed9am</th>\n",
       "      <th>WindSpeed3pm</th>\n",
       "      <th>Humidity9am</th>\n",
       "      <th>Humidity3pm</th>\n",
       "      <th>Pressure9am</th>\n",
       "      <th>Pressure3pm</th>\n",
       "      <th>Cloud9am</th>\n",
       "      <th>Cloud3pm</th>\n",
       "      <th>Temp9am</th>\n",
       "      <th>Temp3pm</th>\n",
       "    </tr>\n",
       "  </thead>\n",
       "  <tbody>\n",
       "    <tr>\n",
       "      <th>0</th>\n",
       "      <td>13.4</td>\n",
       "      <td>22.9</td>\n",
       "      <td>0.6</td>\n",
       "      <td>NaN</td>\n",
       "      <td>NaN</td>\n",
       "      <td>44.0</td>\n",
       "      <td>20.0</td>\n",
       "      <td>24.0</td>\n",
       "      <td>71.0</td>\n",
       "      <td>22.0</td>\n",
       "      <td>1007.7</td>\n",
       "      <td>1007.1</td>\n",
       "      <td>8.0</td>\n",
       "      <td>NaN</td>\n",
       "      <td>16.9</td>\n",
       "      <td>21.8</td>\n",
       "    </tr>\n",
       "    <tr>\n",
       "      <th>1</th>\n",
       "      <td>7.4</td>\n",
       "      <td>25.1</td>\n",
       "      <td>0.0</td>\n",
       "      <td>NaN</td>\n",
       "      <td>NaN</td>\n",
       "      <td>44.0</td>\n",
       "      <td>4.0</td>\n",
       "      <td>22.0</td>\n",
       "      <td>44.0</td>\n",
       "      <td>25.0</td>\n",
       "      <td>1010.6</td>\n",
       "      <td>1007.8</td>\n",
       "      <td>NaN</td>\n",
       "      <td>NaN</td>\n",
       "      <td>17.2</td>\n",
       "      <td>24.3</td>\n",
       "    </tr>\n",
       "    <tr>\n",
       "      <th>2</th>\n",
       "      <td>17.5</td>\n",
       "      <td>32.3</td>\n",
       "      <td>1.0</td>\n",
       "      <td>NaN</td>\n",
       "      <td>NaN</td>\n",
       "      <td>41.0</td>\n",
       "      <td>7.0</td>\n",
       "      <td>20.0</td>\n",
       "      <td>82.0</td>\n",
       "      <td>33.0</td>\n",
       "      <td>1010.8</td>\n",
       "      <td>1006.0</td>\n",
       "      <td>7.0</td>\n",
       "      <td>8.0</td>\n",
       "      <td>17.8</td>\n",
       "      <td>29.7</td>\n",
       "    </tr>\n",
       "    <tr>\n",
       "      <th>3</th>\n",
       "      <td>14.6</td>\n",
       "      <td>29.7</td>\n",
       "      <td>0.2</td>\n",
       "      <td>NaN</td>\n",
       "      <td>NaN</td>\n",
       "      <td>56.0</td>\n",
       "      <td>19.0</td>\n",
       "      <td>24.0</td>\n",
       "      <td>55.0</td>\n",
       "      <td>23.0</td>\n",
       "      <td>1009.2</td>\n",
       "      <td>1005.4</td>\n",
       "      <td>NaN</td>\n",
       "      <td>NaN</td>\n",
       "      <td>20.6</td>\n",
       "      <td>28.9</td>\n",
       "    </tr>\n",
       "    <tr>\n",
       "      <th>4</th>\n",
       "      <td>7.7</td>\n",
       "      <td>26.7</td>\n",
       "      <td>0.0</td>\n",
       "      <td>NaN</td>\n",
       "      <td>NaN</td>\n",
       "      <td>35.0</td>\n",
       "      <td>6.0</td>\n",
       "      <td>17.0</td>\n",
       "      <td>48.0</td>\n",
       "      <td>19.0</td>\n",
       "      <td>1013.4</td>\n",
       "      <td>1010.1</td>\n",
       "      <td>NaN</td>\n",
       "      <td>NaN</td>\n",
       "      <td>16.3</td>\n",
       "      <td>25.5</td>\n",
       "    </tr>\n",
       "  </tbody>\n",
       "</table>\n",
       "</div>"
      ],
      "text/plain": [
       "   MinTemp  MaxTemp  Rainfall  Evaporation  Sunshine  WindGustSpeed  \\\n",
       "0     13.4     22.9       0.6          NaN       NaN           44.0   \n",
       "1      7.4     25.1       0.0          NaN       NaN           44.0   \n",
       "2     17.5     32.3       1.0          NaN       NaN           41.0   \n",
       "3     14.6     29.7       0.2          NaN       NaN           56.0   \n",
       "4      7.7     26.7       0.0          NaN       NaN           35.0   \n",
       "\n",
       "   WindSpeed9am  WindSpeed3pm  Humidity9am  Humidity3pm  Pressure9am  \\\n",
       "0          20.0          24.0         71.0         22.0       1007.7   \n",
       "1           4.0          22.0         44.0         25.0       1010.6   \n",
       "2           7.0          20.0         82.0         33.0       1010.8   \n",
       "3          19.0          24.0         55.0         23.0       1009.2   \n",
       "4           6.0          17.0         48.0         19.0       1013.4   \n",
       "\n",
       "   Pressure3pm  Cloud9am  Cloud3pm  Temp9am  Temp3pm  \n",
       "0       1007.1       8.0       NaN     16.9     21.8  \n",
       "1       1007.8       NaN       NaN     17.2     24.3  \n",
       "2       1006.0       7.0       8.0     17.8     29.7  \n",
       "3       1005.4       NaN       NaN     20.6     28.9  \n",
       "4       1010.1       NaN       NaN     16.3     25.5  "
      ]
     },
     "execution_count": 7,
     "metadata": {},
     "output_type": "execute_result"
    }
   ],
   "source": [
    "# creating the dataframe for numerical data\n",
    "num_weather = org_data[['MinTemp', 'MaxTemp', 'Rainfall', 'Evaporation', \n",
    "                       'Sunshine', 'WindGustSpeed', 'WindSpeed9am', 'WindSpeed3pm',\n",
    "                       'Humidity9am', 'Humidity3pm', 'Pressure9am', 'Pressure3pm',\n",
    "                       'Cloud9am', 'Cloud3pm', 'Temp9am', 'Temp3pm']]\n",
    "num_weather.head()"
   ]
  },
  {
   "cell_type": "code",
   "execution_count": 8,
   "id": "1bd53ba6",
   "metadata": {
    "scrolled": true
   },
   "outputs": [
    {
     "data": {
      "text/html": [
       "<div>\n",
       "<style scoped>\n",
       "    .dataframe tbody tr th:only-of-type {\n",
       "        vertical-align: middle;\n",
       "    }\n",
       "\n",
       "    .dataframe tbody tr th {\n",
       "        vertical-align: top;\n",
       "    }\n",
       "\n",
       "    .dataframe thead th {\n",
       "        text-align: right;\n",
       "    }\n",
       "</style>\n",
       "<table border=\"1\" class=\"dataframe\">\n",
       "  <thead>\n",
       "    <tr style=\"text-align: right;\">\n",
       "      <th></th>\n",
       "      <th>Location</th>\n",
       "      <th>WindGustDir</th>\n",
       "      <th>WindDir9am</th>\n",
       "      <th>WindDir3pm</th>\n",
       "      <th>RainToday</th>\n",
       "    </tr>\n",
       "  </thead>\n",
       "  <tbody>\n",
       "    <tr>\n",
       "      <th>0</th>\n",
       "      <td>Albury</td>\n",
       "      <td>W</td>\n",
       "      <td>W</td>\n",
       "      <td>WNW</td>\n",
       "      <td>No</td>\n",
       "    </tr>\n",
       "    <tr>\n",
       "      <th>1</th>\n",
       "      <td>Albury</td>\n",
       "      <td>WNW</td>\n",
       "      <td>NNW</td>\n",
       "      <td>WSW</td>\n",
       "      <td>No</td>\n",
       "    </tr>\n",
       "    <tr>\n",
       "      <th>2</th>\n",
       "      <td>Albury</td>\n",
       "      <td>W</td>\n",
       "      <td>ENE</td>\n",
       "      <td>NW</td>\n",
       "      <td>No</td>\n",
       "    </tr>\n",
       "    <tr>\n",
       "      <th>3</th>\n",
       "      <td>Albury</td>\n",
       "      <td>WNW</td>\n",
       "      <td>W</td>\n",
       "      <td>W</td>\n",
       "      <td>No</td>\n",
       "    </tr>\n",
       "    <tr>\n",
       "      <th>4</th>\n",
       "      <td>Albury</td>\n",
       "      <td>W</td>\n",
       "      <td>SSE</td>\n",
       "      <td>W</td>\n",
       "      <td>No</td>\n",
       "    </tr>\n",
       "  </tbody>\n",
       "</table>\n",
       "</div>"
      ],
      "text/plain": [
       "  Location WindGustDir WindDir9am WindDir3pm RainToday\n",
       "0   Albury           W          W        WNW        No\n",
       "1   Albury         WNW        NNW        WSW        No\n",
       "2   Albury           W        ENE         NW        No\n",
       "3   Albury         WNW          W          W        No\n",
       "4   Albury           W        SSE          W        No"
      ]
     },
     "execution_count": 8,
     "metadata": {},
     "output_type": "execute_result"
    }
   ],
   "source": [
    "#creating the dataframe for categorical data\n",
    "cat_weather = org_data.copy()\n",
    "cat_weather=cat_weather.drop(['MinTemp', 'MaxTemp', 'Rainfall', 'Evaporation', \n",
    "                       'Sunshine', 'WindGustSpeed', 'WindSpeed9am', 'WindSpeed3pm',\n",
    "                       'Humidity9am', 'Humidity3pm', 'Pressure9am', 'Pressure3pm',\n",
    "                       'Cloud9am', 'Cloud3pm', 'Temp9am', 'Temp3pm','RainTomorrow','row ID'], axis=1)\n",
    "cat_weather.head()"
   ]
  },
  {
   "cell_type": "code",
   "execution_count": 9,
   "id": "ad5aef55",
   "metadata": {},
   "outputs": [
    {
     "data": {
      "text/html": [
       "<div>\n",
       "<style scoped>\n",
       "    .dataframe tbody tr th:only-of-type {\n",
       "        vertical-align: middle;\n",
       "    }\n",
       "\n",
       "    .dataframe tbody tr th {\n",
       "        vertical-align: top;\n",
       "    }\n",
       "\n",
       "    .dataframe thead th {\n",
       "        text-align: right;\n",
       "    }\n",
       "</style>\n",
       "<table border=\"1\" class=\"dataframe\">\n",
       "  <thead>\n",
       "    <tr style=\"text-align: right;\">\n",
       "      <th></th>\n",
       "      <th>RainTomorrow</th>\n",
       "    </tr>\n",
       "  </thead>\n",
       "  <tbody>\n",
       "    <tr>\n",
       "      <th>0</th>\n",
       "      <td>0</td>\n",
       "    </tr>\n",
       "    <tr>\n",
       "      <th>1</th>\n",
       "      <td>0</td>\n",
       "    </tr>\n",
       "    <tr>\n",
       "      <th>2</th>\n",
       "      <td>0</td>\n",
       "    </tr>\n",
       "    <tr>\n",
       "      <th>3</th>\n",
       "      <td>0</td>\n",
       "    </tr>\n",
       "    <tr>\n",
       "      <th>4</th>\n",
       "      <td>0</td>\n",
       "    </tr>\n",
       "  </tbody>\n",
       "</table>\n",
       "</div>"
      ],
      "text/plain": [
       "   RainTomorrow\n",
       "0             0\n",
       "1             0\n",
       "2             0\n",
       "3             0\n",
       "4             0"
      ]
     },
     "execution_count": 9,
     "metadata": {},
     "output_type": "execute_result"
    }
   ],
   "source": [
    "#creating dataframe for the target(rain tomorrow)\n",
    "target = org_data[['RainTomorrow']]\n",
    "target.head()"
   ]
  },
  {
   "cell_type": "markdown",
   "id": "c8a52ba5",
   "metadata": {},
   "source": [
    "As only the column is cleaned, the number of rows in the orginal dataframe and the different dataframe should be the same. The cell below varifies that the rows are not affected by the above cleaning process"
   ]
  },
  {
   "cell_type": "code",
   "execution_count": 10,
   "id": "127f422a",
   "metadata": {},
   "outputs": [
    {
     "name": "stdout",
     "output_type": "stream",
     "text": [
      "row unaffected\n"
     ]
    }
   ],
   "source": [
    "# compare the number of rows in original dataframe and the feature dataframe\n",
    "if target.shape[0] == org_data.shape[0]==cat_weather.shape[0]==num_weather.shape[0]:\n",
    "    print(\"row unaffected\")\n",
    "else:\n",
    "    print('error')"
   ]
  },
  {
   "cell_type": "code",
   "execution_count": 11,
   "id": "1f0920e6",
   "metadata": {},
   "outputs": [],
   "source": [
    "#obtain the column names to prepare for knn\n",
    "num_data = list(num_weather.columns)\n",
    "cat_data = list(cat_weather.columns)"
   ]
  },
  {
   "cell_type": "markdown",
   "id": "6ac46abf",
   "metadata": {},
   "source": [
    "<h3>4.2 Data Cleaning for row</h3>"
   ]
  },
  {
   "cell_type": "markdown",
   "id": "4a48060d",
   "metadata": {},
   "source": [
    "KNN imputer is used to impute the missing values"
   ]
  },
  {
   "cell_type": "code",
   "execution_count": 12,
   "id": "62e2c976",
   "metadata": {},
   "outputs": [],
   "source": [
    "#import the modules needed for imputing\n",
    "from sklearn.model_selection import train_test_split\n",
    "from sklearn.impute import KNNImputer"
   ]
  },
  {
   "cell_type": "code",
   "execution_count": 13,
   "id": "31ee0dd3",
   "metadata": {},
   "outputs": [],
   "source": [
    "#define the test size and random seed\n",
    "size = 0.10\n",
    "seed = 66"
   ]
  },
  {
   "cell_type": "code",
   "execution_count": 14,
   "id": "d07a3ca7",
   "metadata": {},
   "outputs": [],
   "source": [
    "#obtain all features\n",
    "features = org_data[num_data + cat_data]"
   ]
  },
  {
   "cell_type": "markdown",
   "id": "6d69ca9e",
   "metadata": {},
   "source": [
    "The train_test_split from scikit-learn is used to split the features and target into training and testing sets for machine learning. The test_size is set as 10 such that 10% of the data is used for testing and 90% of the data is used for training. As the data input is imbalanced, stratify parameter is used such that both rainy and non-rainy days will have same propotion in training and testing sets. Shuffle is set as true so that the data is randomly arranged before splitting them into test and training set. The randomn state is set as seed (66) so that the result is repeatable."
   ]
  },
  {
   "cell_type": "code",
   "execution_count": 15,
   "id": "73a865e5",
   "metadata": {},
   "outputs": [],
   "source": [
    "#the features is then split into the training and testing data sets\n",
    "(X_feature_train, X_feature_test, y_feature_train, y_feature_test) = train_test_split(features, target, \n",
    "                                                          test_size=size, stratify=target,\n",
    "                                                          shuffle=True, random_state=seed)"
   ]
  },
  {
   "cell_type": "markdown",
   "id": "ed551b58",
   "metadata": {},
   "source": [
    "<b>Finding X train and test</b>"
   ]
  },
  {
   "cell_type": "code",
   "execution_count": 16,
   "id": "b524bdb0",
   "metadata": {},
   "outputs": [],
   "source": [
    "#import for one hot endcoding and standardscalar\n",
    "from sklearn.preprocessing import OneHotEncoder, StandardScaler\n",
    "from sklearn.compose import ColumnTransformer"
   ]
  },
  {
   "cell_type": "markdown",
   "id": "a73b1c05",
   "metadata": {},
   "source": [
    "KNNImputer is used to impute the missing values. In this case, the n_neighbor will be set as 5 such that 5 nearest neighbour is used to impute the value by fitting the training set's numeric data. Then a transform method is used on both training and testing data to transform their missing values to imputed values caculated by the imputer"
   ]
  },
  {
   "cell_type": "code",
   "execution_count": 17,
   "id": "7b204eb0",
   "metadata": {},
   "outputs": [],
   "source": [
    "# impute missing values in the numerical features\n",
    "knn_imp = KNNImputer(n_neighbors=5).fit(X_feature_train[num_data])\n",
    "num_feature_train = knn_imp.transform(X_feature_train[num_data])\n",
    "num_feature_test = knn_imp.transform(X_feature_test[num_data])"
   ]
  },
  {
   "cell_type": "markdown",
   "id": "40c248be",
   "metadata": {},
   "source": [
    "The categorical data are checked for missing values. Then new dataframe for training and testing set for categorical data is formed and filled missing value with numpy na."
   ]
  },
  {
   "cell_type": "code",
   "execution_count": 18,
   "id": "59e1c6da",
   "metadata": {},
   "outputs": [
    {
     "data": {
      "text/plain": [
       "Location         0\n",
       "WindGustDir    694\n",
       "WindDir9am     713\n",
       "WindDir3pm     284\n",
       "RainToday       86\n",
       "dtype: int64"
      ]
     },
     "execution_count": 18,
     "metadata": {},
     "output_type": "execute_result"
    }
   ],
   "source": [
    "X_feature_test[cat_data].isnull().sum()"
   ]
  },
  {
   "cell_type": "code",
   "execution_count": 19,
   "id": "5fda1d73",
   "metadata": {},
   "outputs": [
    {
     "data": {
      "text/plain": [
       "Location          0\n",
       "WindGustDir    5827\n",
       "WindDir9am     6293\n",
       "WindDir3pm     2364\n",
       "RainToday       893\n",
       "dtype: int64"
      ]
     },
     "execution_count": 19,
     "metadata": {},
     "output_type": "execute_result"
    }
   ],
   "source": [
    "X_feature_train[cat_data].isnull().sum()"
   ]
  },
  {
   "cell_type": "code",
   "execution_count": 20,
   "id": "3731ad14",
   "metadata": {},
   "outputs": [],
   "source": [
    "cat_feature_train = X_feature_train[cat_data].fillna('a')\n",
    "cat_feature_test = X_feature_test[cat_data].fillna('a')"
   ]
  },
  {
   "cell_type": "markdown",
   "id": "8dfc1bc8",
   "metadata": {},
   "source": [
    "Then the categorical data and numerical data is combine forming a new dataframe with imputed numercial value filled"
   ]
  },
  {
   "cell_type": "code",
   "execution_count": 21,
   "id": "ed352739",
   "metadata": {},
   "outputs": [
    {
     "data": {
      "text/html": [
       "<div>\n",
       "<style scoped>\n",
       "    .dataframe tbody tr th:only-of-type {\n",
       "        vertical-align: middle;\n",
       "    }\n",
       "\n",
       "    .dataframe tbody tr th {\n",
       "        vertical-align: top;\n",
       "    }\n",
       "\n",
       "    .dataframe thead th {\n",
       "        text-align: right;\n",
       "    }\n",
       "</style>\n",
       "<table border=\"1\" class=\"dataframe\">\n",
       "  <thead>\n",
       "    <tr style=\"text-align: right;\">\n",
       "      <th></th>\n",
       "      <th>MinTemp</th>\n",
       "      <th>MaxTemp</th>\n",
       "      <th>Rainfall</th>\n",
       "      <th>Evaporation</th>\n",
       "      <th>Sunshine</th>\n",
       "      <th>WindGustSpeed</th>\n",
       "      <th>WindSpeed9am</th>\n",
       "      <th>WindSpeed3pm</th>\n",
       "      <th>Humidity9am</th>\n",
       "      <th>Humidity3pm</th>\n",
       "      <th>...</th>\n",
       "      <th>Pressure3pm</th>\n",
       "      <th>Cloud9am</th>\n",
       "      <th>Cloud3pm</th>\n",
       "      <th>Temp9am</th>\n",
       "      <th>Temp3pm</th>\n",
       "      <th>Location</th>\n",
       "      <th>WindGustDir</th>\n",
       "      <th>WindDir9am</th>\n",
       "      <th>WindDir3pm</th>\n",
       "      <th>RainToday</th>\n",
       "    </tr>\n",
       "  </thead>\n",
       "  <tbody>\n",
       "    <tr>\n",
       "      <th>0</th>\n",
       "      <td>9.6</td>\n",
       "      <td>13.8</td>\n",
       "      <td>0.8</td>\n",
       "      <td>0.8</td>\n",
       "      <td>1.20</td>\n",
       "      <td>35.0</td>\n",
       "      <td>9.0</td>\n",
       "      <td>20.0</td>\n",
       "      <td>67.0</td>\n",
       "      <td>60.0</td>\n",
       "      <td>...</td>\n",
       "      <td>1032.2</td>\n",
       "      <td>8.0</td>\n",
       "      <td>8.0</td>\n",
       "      <td>12.0</td>\n",
       "      <td>12.9</td>\n",
       "      <td>Portland</td>\n",
       "      <td>W</td>\n",
       "      <td>WSW</td>\n",
       "      <td>W</td>\n",
       "      <td>No</td>\n",
       "    </tr>\n",
       "    <tr>\n",
       "      <th>1</th>\n",
       "      <td>9.4</td>\n",
       "      <td>25.5</td>\n",
       "      <td>0.0</td>\n",
       "      <td>4.8</td>\n",
       "      <td>11.54</td>\n",
       "      <td>44.0</td>\n",
       "      <td>6.0</td>\n",
       "      <td>15.0</td>\n",
       "      <td>68.0</td>\n",
       "      <td>35.0</td>\n",
       "      <td>...</td>\n",
       "      <td>1014.9</td>\n",
       "      <td>1.6</td>\n",
       "      <td>3.2</td>\n",
       "      <td>14.4</td>\n",
       "      <td>23.3</td>\n",
       "      <td>Tuggeranong</td>\n",
       "      <td>W</td>\n",
       "      <td>WNW</td>\n",
       "      <td>N</td>\n",
       "      <td>No</td>\n",
       "    </tr>\n",
       "    <tr>\n",
       "      <th>2</th>\n",
       "      <td>14.7</td>\n",
       "      <td>21.3</td>\n",
       "      <td>0.2</td>\n",
       "      <td>9.0</td>\n",
       "      <td>3.20</td>\n",
       "      <td>35.0</td>\n",
       "      <td>7.0</td>\n",
       "      <td>11.0</td>\n",
       "      <td>69.0</td>\n",
       "      <td>86.0</td>\n",
       "      <td>...</td>\n",
       "      <td>1013.2</td>\n",
       "      <td>7.0</td>\n",
       "      <td>8.0</td>\n",
       "      <td>17.9</td>\n",
       "      <td>16.9</td>\n",
       "      <td>Watsonia</td>\n",
       "      <td>W</td>\n",
       "      <td>SW</td>\n",
       "      <td>SW</td>\n",
       "      <td>No</td>\n",
       "    </tr>\n",
       "    <tr>\n",
       "      <th>3</th>\n",
       "      <td>7.9</td>\n",
       "      <td>26.2</td>\n",
       "      <td>0.0</td>\n",
       "      <td>8.0</td>\n",
       "      <td>11.20</td>\n",
       "      <td>30.0</td>\n",
       "      <td>19.0</td>\n",
       "      <td>6.0</td>\n",
       "      <td>61.0</td>\n",
       "      <td>25.0</td>\n",
       "      <td>...</td>\n",
       "      <td>1010.4</td>\n",
       "      <td>3.0</td>\n",
       "      <td>7.0</td>\n",
       "      <td>17.0</td>\n",
       "      <td>25.4</td>\n",
       "      <td>WaggaWagga</td>\n",
       "      <td>ENE</td>\n",
       "      <td>ENE</td>\n",
       "      <td>W</td>\n",
       "      <td>No</td>\n",
       "    </tr>\n",
       "    <tr>\n",
       "      <th>4</th>\n",
       "      <td>15.5</td>\n",
       "      <td>24.9</td>\n",
       "      <td>0.0</td>\n",
       "      <td>8.0</td>\n",
       "      <td>11.66</td>\n",
       "      <td>39.0</td>\n",
       "      <td>7.0</td>\n",
       "      <td>20.0</td>\n",
       "      <td>56.0</td>\n",
       "      <td>52.0</td>\n",
       "      <td>...</td>\n",
       "      <td>1018.9</td>\n",
       "      <td>1.0</td>\n",
       "      <td>1.0</td>\n",
       "      <td>21.0</td>\n",
       "      <td>24.1</td>\n",
       "      <td>Sydney</td>\n",
       "      <td>NE</td>\n",
       "      <td>W</td>\n",
       "      <td>NE</td>\n",
       "      <td>No</td>\n",
       "    </tr>\n",
       "  </tbody>\n",
       "</table>\n",
       "<p>5 rows × 21 columns</p>\n",
       "</div>"
      ],
      "text/plain": [
       "   MinTemp  MaxTemp  Rainfall  Evaporation  Sunshine  WindGustSpeed  \\\n",
       "0      9.6     13.8       0.8          0.8      1.20           35.0   \n",
       "1      9.4     25.5       0.0          4.8     11.54           44.0   \n",
       "2     14.7     21.3       0.2          9.0      3.20           35.0   \n",
       "3      7.9     26.2       0.0          8.0     11.20           30.0   \n",
       "4     15.5     24.9       0.0          8.0     11.66           39.0   \n",
       "\n",
       "   WindSpeed9am  WindSpeed3pm  Humidity9am  Humidity3pm  ...  Pressure3pm  \\\n",
       "0           9.0          20.0         67.0         60.0  ...       1032.2   \n",
       "1           6.0          15.0         68.0         35.0  ...       1014.9   \n",
       "2           7.0          11.0         69.0         86.0  ...       1013.2   \n",
       "3          19.0           6.0         61.0         25.0  ...       1010.4   \n",
       "4           7.0          20.0         56.0         52.0  ...       1018.9   \n",
       "\n",
       "   Cloud9am  Cloud3pm  Temp9am  Temp3pm     Location WindGustDir WindDir9am  \\\n",
       "0       8.0       8.0     12.0     12.9     Portland           W        WSW   \n",
       "1       1.6       3.2     14.4     23.3  Tuggeranong           W        WNW   \n",
       "2       7.0       8.0     17.9     16.9     Watsonia           W         SW   \n",
       "3       3.0       7.0     17.0     25.4   WaggaWagga         ENE        ENE   \n",
       "4       1.0       1.0     21.0     24.1       Sydney          NE          W   \n",
       "\n",
       "  WindDir3pm RainToday  \n",
       "0          W        No  \n",
       "1          N        No  \n",
       "2         SW        No  \n",
       "3          W        No  \n",
       "4         NE        No  \n",
       "\n",
       "[5 rows x 21 columns]"
      ]
     },
     "execution_count": 21,
     "metadata": {},
     "output_type": "execute_result"
    }
   ],
   "source": [
    "#combine the imputed numerical features and categorical features for training set\n",
    "num_feature_train = pd.DataFrame(num_feature_train, columns=num_data).reset_index(drop=True)\n",
    "cat_feature_train = cat_feature_train.reset_index(drop=True)\n",
    "\n",
    "Xcombine_train = pd.concat([num_feature_train, cat_feature_train], axis=1)\n",
    "Xcombine_train.head()"
   ]
  },
  {
   "cell_type": "code",
   "execution_count": 22,
   "id": "e0ed601f",
   "metadata": {
    "scrolled": false
   },
   "outputs": [
    {
     "data": {
      "text/html": [
       "<div>\n",
       "<style scoped>\n",
       "    .dataframe tbody tr th:only-of-type {\n",
       "        vertical-align: middle;\n",
       "    }\n",
       "\n",
       "    .dataframe tbody tr th {\n",
       "        vertical-align: top;\n",
       "    }\n",
       "\n",
       "    .dataframe thead th {\n",
       "        text-align: right;\n",
       "    }\n",
       "</style>\n",
       "<table border=\"1\" class=\"dataframe\">\n",
       "  <thead>\n",
       "    <tr style=\"text-align: right;\">\n",
       "      <th></th>\n",
       "      <th>MinTemp</th>\n",
       "      <th>MaxTemp</th>\n",
       "      <th>Rainfall</th>\n",
       "      <th>Evaporation</th>\n",
       "      <th>Sunshine</th>\n",
       "      <th>WindGustSpeed</th>\n",
       "      <th>WindSpeed9am</th>\n",
       "      <th>WindSpeed3pm</th>\n",
       "      <th>Humidity9am</th>\n",
       "      <th>Humidity3pm</th>\n",
       "      <th>...</th>\n",
       "      <th>Pressure3pm</th>\n",
       "      <th>Cloud9am</th>\n",
       "      <th>Cloud3pm</th>\n",
       "      <th>Temp9am</th>\n",
       "      <th>Temp3pm</th>\n",
       "      <th>Location</th>\n",
       "      <th>WindGustDir</th>\n",
       "      <th>WindDir9am</th>\n",
       "      <th>WindDir3pm</th>\n",
       "      <th>RainToday</th>\n",
       "    </tr>\n",
       "  </thead>\n",
       "  <tbody>\n",
       "    <tr>\n",
       "      <th>0</th>\n",
       "      <td>7.7</td>\n",
       "      <td>22.5</td>\n",
       "      <td>0.0</td>\n",
       "      <td>5.20</td>\n",
       "      <td>9.10</td>\n",
       "      <td>100.0</td>\n",
       "      <td>57.0</td>\n",
       "      <td>76.0</td>\n",
       "      <td>53.0</td>\n",
       "      <td>34.0</td>\n",
       "      <td>...</td>\n",
       "      <td>1010.50</td>\n",
       "      <td>3.0</td>\n",
       "      <td>6.0</td>\n",
       "      <td>13.0</td>\n",
       "      <td>19.8</td>\n",
       "      <td>Melbourne</td>\n",
       "      <td>N</td>\n",
       "      <td>N</td>\n",
       "      <td>N</td>\n",
       "      <td>No</td>\n",
       "    </tr>\n",
       "    <tr>\n",
       "      <th>1</th>\n",
       "      <td>9.1</td>\n",
       "      <td>15.5</td>\n",
       "      <td>0.0</td>\n",
       "      <td>1.20</td>\n",
       "      <td>3.60</td>\n",
       "      <td>31.0</td>\n",
       "      <td>19.0</td>\n",
       "      <td>17.0</td>\n",
       "      <td>78.0</td>\n",
       "      <td>80.0</td>\n",
       "      <td>...</td>\n",
       "      <td>1025.80</td>\n",
       "      <td>8.0</td>\n",
       "      <td>8.0</td>\n",
       "      <td>14.5</td>\n",
       "      <td>14.4</td>\n",
       "      <td>Portland</td>\n",
       "      <td>ESE</td>\n",
       "      <td>ESE</td>\n",
       "      <td>SE</td>\n",
       "      <td>No</td>\n",
       "    </tr>\n",
       "    <tr>\n",
       "      <th>2</th>\n",
       "      <td>6.2</td>\n",
       "      <td>15.7</td>\n",
       "      <td>0.2</td>\n",
       "      <td>0.80</td>\n",
       "      <td>3.40</td>\n",
       "      <td>52.0</td>\n",
       "      <td>9.0</td>\n",
       "      <td>22.0</td>\n",
       "      <td>86.0</td>\n",
       "      <td>73.0</td>\n",
       "      <td>...</td>\n",
       "      <td>1004.50</td>\n",
       "      <td>8.0</td>\n",
       "      <td>6.0</td>\n",
       "      <td>11.1</td>\n",
       "      <td>15.3</td>\n",
       "      <td>Nuriootpa</td>\n",
       "      <td>WNW</td>\n",
       "      <td>N</td>\n",
       "      <td>NW</td>\n",
       "      <td>No</td>\n",
       "    </tr>\n",
       "    <tr>\n",
       "      <th>3</th>\n",
       "      <td>12.3</td>\n",
       "      <td>19.0</td>\n",
       "      <td>3.4</td>\n",
       "      <td>1.80</td>\n",
       "      <td>3.90</td>\n",
       "      <td>70.0</td>\n",
       "      <td>24.0</td>\n",
       "      <td>41.0</td>\n",
       "      <td>70.0</td>\n",
       "      <td>55.0</td>\n",
       "      <td>...</td>\n",
       "      <td>994.20</td>\n",
       "      <td>7.0</td>\n",
       "      <td>7.0</td>\n",
       "      <td>14.4</td>\n",
       "      <td>18.4</td>\n",
       "      <td>Melbourne</td>\n",
       "      <td>N</td>\n",
       "      <td>N</td>\n",
       "      <td>N</td>\n",
       "      <td>Yes</td>\n",
       "    </tr>\n",
       "    <tr>\n",
       "      <th>4</th>\n",
       "      <td>0.2</td>\n",
       "      <td>11.0</td>\n",
       "      <td>0.0</td>\n",
       "      <td>2.88</td>\n",
       "      <td>7.48</td>\n",
       "      <td>50.0</td>\n",
       "      <td>22.0</td>\n",
       "      <td>11.0</td>\n",
       "      <td>95.0</td>\n",
       "      <td>90.0</td>\n",
       "      <td>...</td>\n",
       "      <td>1014.18</td>\n",
       "      <td>6.2</td>\n",
       "      <td>6.4</td>\n",
       "      <td>5.0</td>\n",
       "      <td>7.7</td>\n",
       "      <td>MountGinini</td>\n",
       "      <td>WSW</td>\n",
       "      <td>SW</td>\n",
       "      <td>WSW</td>\n",
       "      <td>No</td>\n",
       "    </tr>\n",
       "  </tbody>\n",
       "</table>\n",
       "<p>5 rows × 21 columns</p>\n",
       "</div>"
      ],
      "text/plain": [
       "   MinTemp  MaxTemp  Rainfall  Evaporation  Sunshine  WindGustSpeed  \\\n",
       "0      7.7     22.5       0.0         5.20      9.10          100.0   \n",
       "1      9.1     15.5       0.0         1.20      3.60           31.0   \n",
       "2      6.2     15.7       0.2         0.80      3.40           52.0   \n",
       "3     12.3     19.0       3.4         1.80      3.90           70.0   \n",
       "4      0.2     11.0       0.0         2.88      7.48           50.0   \n",
       "\n",
       "   WindSpeed9am  WindSpeed3pm  Humidity9am  Humidity3pm  ...  Pressure3pm  \\\n",
       "0          57.0          76.0         53.0         34.0  ...      1010.50   \n",
       "1          19.0          17.0         78.0         80.0  ...      1025.80   \n",
       "2           9.0          22.0         86.0         73.0  ...      1004.50   \n",
       "3          24.0          41.0         70.0         55.0  ...       994.20   \n",
       "4          22.0          11.0         95.0         90.0  ...      1014.18   \n",
       "\n",
       "   Cloud9am  Cloud3pm  Temp9am  Temp3pm     Location WindGustDir WindDir9am  \\\n",
       "0       3.0       6.0     13.0     19.8    Melbourne           N          N   \n",
       "1       8.0       8.0     14.5     14.4     Portland         ESE        ESE   \n",
       "2       8.0       6.0     11.1     15.3    Nuriootpa         WNW          N   \n",
       "3       7.0       7.0     14.4     18.4    Melbourne           N          N   \n",
       "4       6.2       6.4      5.0      7.7  MountGinini         WSW         SW   \n",
       "\n",
       "  WindDir3pm RainToday  \n",
       "0          N        No  \n",
       "1         SE        No  \n",
       "2         NW        No  \n",
       "3          N       Yes  \n",
       "4        WSW        No  \n",
       "\n",
       "[5 rows x 21 columns]"
      ]
     },
     "execution_count": 22,
     "metadata": {},
     "output_type": "execute_result"
    }
   ],
   "source": [
    "#combine the imputed numerical features and categorical features for testing set\n",
    "num_feature_test = pd.DataFrame(num_feature_test, columns=num_data).reset_index(drop=True)\n",
    "cat_feature_test = cat_feature_test.reset_index(drop=True)\n",
    "\n",
    "Xcombine_test = pd.concat([num_feature_test, cat_feature_test], axis=1)\n",
    "Xcombine_test.head()"
   ]
  },
  {
   "cell_type": "markdown",
   "id": "f02ae917",
   "metadata": {},
   "source": [
    "The categorical data is encoded using <b>one-hot encoding</b> which turns the value into vetors 0 and 1. This would be useful later for the Dense layer of the nerual networks which handles floating point vector data. It only takes in the predefined list of data in cat_data and ignores all the unknowns.\n",
    "\n",
    "With reference to [section 1.2](#chpt1.2), the magitude of the data varies from in 10<sup>3</sup> and 10<sup>1</sup>, there is a significant difference in magitude. Thus the numerical data is standardized using <b>standard scaler</b> method as shown [here](https://scikit-learn.org/stable/modules/generated/sklearn.preprocessing.StandardScaler.html).\n",
    "\n",
    "Instead of the method as demonstrated in chapter 3.4.2 of the Deep Learning with Python, code below took reference from a post with similar problem in [stackoverflow](https://stackoverflow.com/questions/54160370/how-to-use-sklearn-column-transformer). Which utilises a preprocessor."
   ]
  },
  {
   "cell_type": "code",
   "execution_count": 23,
   "id": "91cab30e",
   "metadata": {},
   "outputs": [],
   "source": [
    "# defining the preprocessor\n",
    "preprocessor = ColumnTransformer([\n",
    "    ('one-hot-encoder', OneHotEncoder(handle_unknown=\"ignore\"), cat_data),\n",
    "    ('standard_scaler', StandardScaler(), num_data)])"
   ]
  },
  {
   "cell_type": "code",
   "execution_count": 24,
   "id": "52396fbc",
   "metadata": {
    "scrolled": true
   },
   "outputs": [
    {
     "data": {
      "text/html": [
       "<style>#sk-container-id-1 {color: black;background-color: white;}#sk-container-id-1 pre{padding: 0;}#sk-container-id-1 div.sk-toggleable {background-color: white;}#sk-container-id-1 label.sk-toggleable__label {cursor: pointer;display: block;width: 100%;margin-bottom: 0;padding: 0.3em;box-sizing: border-box;text-align: center;}#sk-container-id-1 label.sk-toggleable__label-arrow:before {content: \"▸\";float: left;margin-right: 0.25em;color: #696969;}#sk-container-id-1 label.sk-toggleable__label-arrow:hover:before {color: black;}#sk-container-id-1 div.sk-estimator:hover label.sk-toggleable__label-arrow:before {color: black;}#sk-container-id-1 div.sk-toggleable__content {max-height: 0;max-width: 0;overflow: hidden;text-align: left;background-color: #f0f8ff;}#sk-container-id-1 div.sk-toggleable__content pre {margin: 0.2em;color: black;border-radius: 0.25em;background-color: #f0f8ff;}#sk-container-id-1 input.sk-toggleable__control:checked~div.sk-toggleable__content {max-height: 200px;max-width: 100%;overflow: auto;}#sk-container-id-1 input.sk-toggleable__control:checked~label.sk-toggleable__label-arrow:before {content: \"▾\";}#sk-container-id-1 div.sk-estimator input.sk-toggleable__control:checked~label.sk-toggleable__label {background-color: #d4ebff;}#sk-container-id-1 div.sk-label input.sk-toggleable__control:checked~label.sk-toggleable__label {background-color: #d4ebff;}#sk-container-id-1 input.sk-hidden--visually {border: 0;clip: rect(1px 1px 1px 1px);clip: rect(1px, 1px, 1px, 1px);height: 1px;margin: -1px;overflow: hidden;padding: 0;position: absolute;width: 1px;}#sk-container-id-1 div.sk-estimator {font-family: monospace;background-color: #f0f8ff;border: 1px dotted black;border-radius: 0.25em;box-sizing: border-box;margin-bottom: 0.5em;}#sk-container-id-1 div.sk-estimator:hover {background-color: #d4ebff;}#sk-container-id-1 div.sk-parallel-item::after {content: \"\";width: 100%;border-bottom: 1px solid gray;flex-grow: 1;}#sk-container-id-1 div.sk-label:hover label.sk-toggleable__label {background-color: #d4ebff;}#sk-container-id-1 div.sk-serial::before {content: \"\";position: absolute;border-left: 1px solid gray;box-sizing: border-box;top: 0;bottom: 0;left: 50%;z-index: 0;}#sk-container-id-1 div.sk-serial {display: flex;flex-direction: column;align-items: center;background-color: white;padding-right: 0.2em;padding-left: 0.2em;position: relative;}#sk-container-id-1 div.sk-item {position: relative;z-index: 1;}#sk-container-id-1 div.sk-parallel {display: flex;align-items: stretch;justify-content: center;background-color: white;position: relative;}#sk-container-id-1 div.sk-item::before, #sk-container-id-1 div.sk-parallel-item::before {content: \"\";position: absolute;border-left: 1px solid gray;box-sizing: border-box;top: 0;bottom: 0;left: 50%;z-index: -1;}#sk-container-id-1 div.sk-parallel-item {display: flex;flex-direction: column;z-index: 1;position: relative;background-color: white;}#sk-container-id-1 div.sk-parallel-item:first-child::after {align-self: flex-end;width: 50%;}#sk-container-id-1 div.sk-parallel-item:last-child::after {align-self: flex-start;width: 50%;}#sk-container-id-1 div.sk-parallel-item:only-child::after {width: 0;}#sk-container-id-1 div.sk-dashed-wrapped {border: 1px dashed gray;margin: 0 0.4em 0.5em 0.4em;box-sizing: border-box;padding-bottom: 0.4em;background-color: white;}#sk-container-id-1 div.sk-label label {font-family: monospace;font-weight: bold;display: inline-block;line-height: 1.2em;}#sk-container-id-1 div.sk-label-container {text-align: center;}#sk-container-id-1 div.sk-container {/* jupyter's `normalize.less` sets `[hidden] { display: none; }` but bootstrap.min.css set `[hidden] { display: none !important; }` so we also need the `!important` here to be able to override the default hidden behavior on the sphinx rendered scikit-learn.org. See: https://github.com/scikit-learn/scikit-learn/issues/21755 */display: inline-block !important;position: relative;}#sk-container-id-1 div.sk-text-repr-fallback {display: none;}</style><div id=\"sk-container-id-1\" class=\"sk-top-container\"><div class=\"sk-text-repr-fallback\"><pre>ColumnTransformer(transformers=[(&#x27;one-hot-encoder&#x27;,\n",
       "                                 OneHotEncoder(handle_unknown=&#x27;ignore&#x27;),\n",
       "                                 [&#x27;Location&#x27;, &#x27;WindGustDir&#x27;, &#x27;WindDir9am&#x27;,\n",
       "                                  &#x27;WindDir3pm&#x27;, &#x27;RainToday&#x27;]),\n",
       "                                (&#x27;standard_scaler&#x27;, StandardScaler(),\n",
       "                                 [&#x27;MinTemp&#x27;, &#x27;MaxTemp&#x27;, &#x27;Rainfall&#x27;,\n",
       "                                  &#x27;Evaporation&#x27;, &#x27;Sunshine&#x27;, &#x27;WindGustSpeed&#x27;,\n",
       "                                  &#x27;WindSpeed9am&#x27;, &#x27;WindSpeed3pm&#x27;, &#x27;Humidity9am&#x27;,\n",
       "                                  &#x27;Humidity3pm&#x27;, &#x27;Pressure9am&#x27;, &#x27;Pressure3pm&#x27;,\n",
       "                                  &#x27;Cloud9am&#x27;, &#x27;Cloud3pm&#x27;, &#x27;Temp9am&#x27;,\n",
       "                                  &#x27;Temp3pm&#x27;])])</pre><b>In a Jupyter environment, please rerun this cell to show the HTML representation or trust the notebook. <br />On GitHub, the HTML representation is unable to render, please try loading this page with nbviewer.org.</b></div><div class=\"sk-container\" hidden><div class=\"sk-item sk-dashed-wrapped\"><div class=\"sk-label-container\"><div class=\"sk-label sk-toggleable\"><input class=\"sk-toggleable__control sk-hidden--visually\" id=\"sk-estimator-id-1\" type=\"checkbox\" ><label for=\"sk-estimator-id-1\" class=\"sk-toggleable__label sk-toggleable__label-arrow\">ColumnTransformer</label><div class=\"sk-toggleable__content\"><pre>ColumnTransformer(transformers=[(&#x27;one-hot-encoder&#x27;,\n",
       "                                 OneHotEncoder(handle_unknown=&#x27;ignore&#x27;),\n",
       "                                 [&#x27;Location&#x27;, &#x27;WindGustDir&#x27;, &#x27;WindDir9am&#x27;,\n",
       "                                  &#x27;WindDir3pm&#x27;, &#x27;RainToday&#x27;]),\n",
       "                                (&#x27;standard_scaler&#x27;, StandardScaler(),\n",
       "                                 [&#x27;MinTemp&#x27;, &#x27;MaxTemp&#x27;, &#x27;Rainfall&#x27;,\n",
       "                                  &#x27;Evaporation&#x27;, &#x27;Sunshine&#x27;, &#x27;WindGustSpeed&#x27;,\n",
       "                                  &#x27;WindSpeed9am&#x27;, &#x27;WindSpeed3pm&#x27;, &#x27;Humidity9am&#x27;,\n",
       "                                  &#x27;Humidity3pm&#x27;, &#x27;Pressure9am&#x27;, &#x27;Pressure3pm&#x27;,\n",
       "                                  &#x27;Cloud9am&#x27;, &#x27;Cloud3pm&#x27;, &#x27;Temp9am&#x27;,\n",
       "                                  &#x27;Temp3pm&#x27;])])</pre></div></div></div><div class=\"sk-parallel\"><div class=\"sk-parallel-item\"><div class=\"sk-item\"><div class=\"sk-label-container\"><div class=\"sk-label sk-toggleable\"><input class=\"sk-toggleable__control sk-hidden--visually\" id=\"sk-estimator-id-2\" type=\"checkbox\" ><label for=\"sk-estimator-id-2\" class=\"sk-toggleable__label sk-toggleable__label-arrow\">one-hot-encoder</label><div class=\"sk-toggleable__content\"><pre>[&#x27;Location&#x27;, &#x27;WindGustDir&#x27;, &#x27;WindDir9am&#x27;, &#x27;WindDir3pm&#x27;, &#x27;RainToday&#x27;]</pre></div></div></div><div class=\"sk-serial\"><div class=\"sk-item\"><div class=\"sk-estimator sk-toggleable\"><input class=\"sk-toggleable__control sk-hidden--visually\" id=\"sk-estimator-id-3\" type=\"checkbox\" ><label for=\"sk-estimator-id-3\" class=\"sk-toggleable__label sk-toggleable__label-arrow\">OneHotEncoder</label><div class=\"sk-toggleable__content\"><pre>OneHotEncoder(handle_unknown=&#x27;ignore&#x27;)</pre></div></div></div></div></div></div><div class=\"sk-parallel-item\"><div class=\"sk-item\"><div class=\"sk-label-container\"><div class=\"sk-label sk-toggleable\"><input class=\"sk-toggleable__control sk-hidden--visually\" id=\"sk-estimator-id-4\" type=\"checkbox\" ><label for=\"sk-estimator-id-4\" class=\"sk-toggleable__label sk-toggleable__label-arrow\">standard_scaler</label><div class=\"sk-toggleable__content\"><pre>[&#x27;MinTemp&#x27;, &#x27;MaxTemp&#x27;, &#x27;Rainfall&#x27;, &#x27;Evaporation&#x27;, &#x27;Sunshine&#x27;, &#x27;WindGustSpeed&#x27;, &#x27;WindSpeed9am&#x27;, &#x27;WindSpeed3pm&#x27;, &#x27;Humidity9am&#x27;, &#x27;Humidity3pm&#x27;, &#x27;Pressure9am&#x27;, &#x27;Pressure3pm&#x27;, &#x27;Cloud9am&#x27;, &#x27;Cloud3pm&#x27;, &#x27;Temp9am&#x27;, &#x27;Temp3pm&#x27;]</pre></div></div></div><div class=\"sk-serial\"><div class=\"sk-item\"><div class=\"sk-estimator sk-toggleable\"><input class=\"sk-toggleable__control sk-hidden--visually\" id=\"sk-estimator-id-5\" type=\"checkbox\" ><label for=\"sk-estimator-id-5\" class=\"sk-toggleable__label sk-toggleable__label-arrow\">StandardScaler</label><div class=\"sk-toggleable__content\"><pre>StandardScaler()</pre></div></div></div></div></div></div></div></div></div></div>"
      ],
      "text/plain": [
       "ColumnTransformer(transformers=[('one-hot-encoder',\n",
       "                                 OneHotEncoder(handle_unknown='ignore'),\n",
       "                                 ['Location', 'WindGustDir', 'WindDir9am',\n",
       "                                  'WindDir3pm', 'RainToday']),\n",
       "                                ('standard_scaler', StandardScaler(),\n",
       "                                 ['MinTemp', 'MaxTemp', 'Rainfall',\n",
       "                                  'Evaporation', 'Sunshine', 'WindGustSpeed',\n",
       "                                  'WindSpeed9am', 'WindSpeed3pm', 'Humidity9am',\n",
       "                                  'Humidity3pm', 'Pressure9am', 'Pressure3pm',\n",
       "                                  'Cloud9am', 'Cloud3pm', 'Temp9am',\n",
       "                                  'Temp3pm'])])"
      ]
     },
     "execution_count": 24,
     "metadata": {},
     "output_type": "execute_result"
    }
   ],
   "source": [
    "#fit the data into the preprocessor\n",
    "preprocessor.fit(Xcombine_train)"
   ]
  },
  {
   "cell_type": "markdown",
   "id": "ac0dfec3",
   "metadata": {},
   "source": [
    "Next the data is transformed using the preprocessor. The transform method calls the one-hot-encoder (categorical data) and standard scaler (numerical data) as identified in the column transformer. The result is saved as X_train and X_test for future machine learning."
   ]
  },
  {
   "cell_type": "code",
   "execution_count": 25,
   "id": "f1faead8",
   "metadata": {},
   "outputs": [],
   "source": [
    "#transform the data using preprocessor\n",
    "X_train, X_test = preprocessor.transform(Xcombine_train), preprocessor.transform(Xcombine_test)"
   ]
  },
  {
   "cell_type": "code",
   "execution_count": 26,
   "id": "854a3056",
   "metadata": {},
   "outputs": [
    {
     "data": {
      "text/plain": [
       "(<89564x119 sparse matrix of type '<class 'numpy.float64'>'\n",
       " \twith 1880844 stored elements in Compressed Sparse Row format>,\n",
       " <9952x119 sparse matrix of type '<class 'numpy.float64'>'\n",
       " \twith 208992 stored elements in Compressed Sparse Row format>)"
      ]
     },
     "execution_count": 26,
     "metadata": {},
     "output_type": "execute_result"
    }
   ],
   "source": [
    "X_train, X_test"
   ]
  },
  {
   "cell_type": "markdown",
   "id": "e0ff2492",
   "metadata": {},
   "source": [
    "<b>Finding y train and test</b>"
   ]
  },
  {
   "cell_type": "markdown",
   "id": "319d3950",
   "metadata": {},
   "source": [
    "For the y_feature train and test, as there is only two binary category (rain or not rain), a <b>labeled encoding</b> is recommened. It assigns 0 to one data and 1 to the other. However, with reference to the table for RainTomorrow section [4.1](#chpt4.1) as well as below, the value in RainTomorrow column is already in 0 and 1. Thus there is no need to apply the label encoding and the column is ready to be used."
   ]
  },
  {
   "cell_type": "code",
   "execution_count": 27,
   "id": "96762f75",
   "metadata": {},
   "outputs": [
    {
     "data": {
      "text/plain": [
       "array([0, 1], dtype=int64)"
      ]
     },
     "execution_count": 27,
     "metadata": {},
     "output_type": "execute_result"
    }
   ],
   "source": [
    "target.RainTomorrow.unique()"
   ]
  },
  {
   "cell_type": "code",
   "execution_count": 28,
   "id": "338094f7",
   "metadata": {},
   "outputs": [],
   "source": [
    "y_train = y_feature_train\n",
    "y_test = y_feature_test"
   ]
  },
  {
   "cell_type": "markdown",
   "id": "5a459234",
   "metadata": {},
   "source": [
    "<b>Split for Validation</b>"
   ]
  },
  {
   "cell_type": "markdown",
   "id": "4aa4aa01",
   "metadata": {},
   "source": [
    "As mentioned in [section 3](#chpt3), both hold-out validation and k-fold validation will be used. Thus there is a need to reserve a propotion of data for validation in the training set. This is split using the similar way as the train test split. The only difference is that instead of splitting for test set, the code below splits for the validation set. The size of validation set is set as vali (12.5% of training data). The result is saved as using_X_train and using_y_train to differentiate from the one without validation"
   ]
  },
  {
   "cell_type": "code",
   "execution_count": 29,
   "id": "3fb35ab0",
   "metadata": {},
   "outputs": [],
   "source": [
    "vali=0.125\n",
    "using_X_train, X_vali, using_y_train, y_vali = train_test_split(X_train, y_train, \n",
    "                                                  test_size=vali, stratify=y_train,\n",
    "                                                  shuffle=True, random_state=seed)"
   ]
  },
  {
   "cell_type": "code",
   "execution_count": 30,
   "id": "ae067f8d",
   "metadata": {},
   "outputs": [
    {
     "data": {
      "text/plain": [
       "<78368x119 sparse matrix of type '<class 'numpy.float64'>'\n",
       "\twith 1645728 stored elements in Compressed Sparse Row format>"
      ]
     },
     "execution_count": 30,
     "metadata": {},
     "output_type": "execute_result"
    }
   ],
   "source": [
    "using_X_train"
   ]
  },
  {
   "cell_type": "markdown",
   "id": "cb2285d8",
   "metadata": {},
   "source": [
    "<h2 id='chpt5'>5. Developing a model that does better than a baseline</h2>"
   ]
  },
  {
   "cell_type": "markdown",
   "id": "860dd642",
   "metadata": {},
   "source": [
    "A baseline is essential for the success of the model as it is used as a bench mark to evaluate how good or bad the particular model perform. Evatually, the aim of the nerual network is to develop a model such that it has better performance as compared to the baseline. The model is evaluated based on the pre-determined set of measures of success. The recall, precision, Balanced Accuracy Score and AUG where indentified as the measure of success in [section 2](#chpt2).\n",
    "\n",
    "There are a few ways to indentify a baseline, one way is to use a random baseline as recomended in chapter 3.5.4 of the Deep learning with Python by Chollet. It is a simple algorithm as it makes a random prediction."
   ]
  },
  {
   "cell_type": "markdown",
   "id": "51970758",
   "metadata": {},
   "source": [
    "<h3>5.1 Building Model</h3>"
   ]
  },
  {
   "cell_type": "code",
   "execution_count": 59,
   "id": "cab1134c",
   "metadata": {},
   "outputs": [],
   "source": [
    "# import the required modeuls for deep learning model \n",
    "from tensorflow.keras.models import Sequential\n",
    "from tensorflow.keras.layers import Dense, Dropout\n",
    "import tensorflow as tf\n",
    "\n",
    "# import models for testing, validation and baseline\n",
    "from sklearn.metrics import balanced_accuracy_score\n",
    "from sklearn.metrics import recall_score\n",
    "import matplotlib.pyplot as plt"
   ]
  },
  {
   "cell_type": "markdown",
   "id": "5bfa8518",
   "metadata": {},
   "source": [
    "With reference to chapter 3.4.3 of the Deep Learning With Python by Chollet, as this problem is also a binary classification, the model will be built using <b>Dense</b> layer with <b>relu</b> activation. As this is the first model, an arbitory set of hyperparameters will be manually defined. As recomended in [Video 10.509](https://www.coursera.org/learn/uol-cm3015-machine-learning-and-neural-networks/lecture/lkS9A/10-509-developing-a-model-that-does-better-than-the-baseline) of this course, it is optimal for binary classification problems to have sigmoid activation for the last layer and binary_crossentropy as the loss function. Thus, the model will end with an output layer with <b>sigmoid activation</b> and loss function of <b>binary_crossentropy</b>. The rmsprop optimizer is used as guided in chapter 3.6.3 of the Deep Learning With Python by Chollet."
   ]
  },
  {
   "cell_type": "markdown",
   "id": "99d70756",
   "metadata": {},
   "source": [
    "For deep learning, there must be at least 3 layers. Thus 2 hidden layers and 1 output layer will be used in a sequential manner."
   ]
  },
  {
   "cell_type": "code",
   "execution_count": 32,
   "id": "9276db3a",
   "metadata": {},
   "outputs": [],
   "source": [
    "# set hyperparameters for hidden layers\n",
    "hidden_layers = 0\n",
    "unit = 16\n",
    "activation = 'relu'\n",
    "input_shape = X_train.shape[1]\n",
    "dropout = 0.2\n",
    "\n",
    "# set hyperparameters for hidden layers\n",
    "output_unit = 1\n",
    "optimizer = 'rmsprop'\n",
    "\n",
    "# set the compling parameters\n",
    "loss_function = 'binary_crossentropy'\n",
    "metrics = ['accuracy',tf.keras.metrics.Precision(name='precision'), \n",
    "           tf.keras.metrics.Recall(name='recall'),\n",
    "           tf.keras.metrics.AUC(name='auc')]"
   ]
  },
  {
   "cell_type": "code",
   "execution_count": 33,
   "id": "8993be42",
   "metadata": {},
   "outputs": [],
   "source": [
    "#create the model\n",
    "fst_model = Sequential()\n",
    "\n",
    "#add hidden layers\n",
    "for layer in range(hidden_layers):\n",
    "    fst_model.add(Dense(unit, activation=activation, input_shape=(input_shape,)))\n",
    "    if dropout > 0.0:\n",
    "        fst_model.add(Dropout(dropout))\n",
    "\n",
    "#add output layer\n",
    "fst_model.add(Dense(output_unit, activation='sigmoid'))\n",
    "\n",
    "#build the model\n",
    "fst_model.build((None,input_shape))\n",
    "\n",
    "#compile the model\n",
    "fst_model.compile(optimizer=optimizer, loss=loss_function, metrics=metrics)"
   ]
  },
  {
   "cell_type": "code",
   "execution_count": 34,
   "id": "7e8c0d0c",
   "metadata": {
    "scrolled": true
   },
   "outputs": [
    {
     "name": "stdout",
     "output_type": "stream",
     "text": [
      "Model: \"sequential\"\n",
      "_________________________________________________________________\n",
      " Layer (type)                Output Shape              Param #   \n",
      "=================================================================\n",
      " dense (Dense)               (None, 1)                 120       \n",
      "                                                                 \n",
      "=================================================================\n",
      "Total params: 120\n",
      "Trainable params: 120\n",
      "Non-trainable params: 0\n",
      "_________________________________________________________________\n"
     ]
    }
   ],
   "source": [
    "fst_model.summary()"
   ]
  },
  {
   "cell_type": "markdown",
   "id": "3bf84500",
   "metadata": {},
   "source": [
    "<h3>5.2 Training the model</h3>"
   ]
  },
  {
   "cell_type": "markdown",
   "id": "7ce21932",
   "metadata": {},
   "source": [
    "To train the model, the parameter of the model need first to be defined. The input data, namly using_X_train, X_vali, using_y_train, y_vali were already defined in section 4 of this report. The other varibles that needs to be defined includes batch size, epochs, and verbose.\n",
    "\n",
    "Batch size refers to the number of training samples used in each iteration (gradient descent, for example), then the epochs defines the number of training passes. For instance, my code below passes <b>256 sample</b> in each iteration, the entire date is passes through the learning algorithm <b>100 times</b>.\n",
    "\n",
    "Verbose is used to display the training information. History1 is used for the model history."
   ]
  },
  {
   "cell_type": "code",
   "execution_count": 35,
   "id": "b973dc3d",
   "metadata": {},
   "outputs": [],
   "source": [
    "#varibales\n",
    "batch_size = 256\n",
    "epochs = 100"
   ]
  },
  {
   "cell_type": "markdown",
   "id": "c5b3e9d1",
   "metadata": {},
   "source": [
    "As the data is unbalanced, the weight of the class need tp be specified"
   ]
  },
  {
   "cell_type": "code",
   "execution_count": 36,
   "id": "846d9092",
   "metadata": {},
   "outputs": [
    {
     "data": {
      "text/plain": [
       "{0: 0.6448979591836734, 1: 2.2253521126760565}"
      ]
     },
     "execution_count": 36,
     "metadata": {},
     "output_type": "execute_result"
    }
   ],
   "source": [
    "unique_classes = np.unique(using_y_train)\n",
    "class_counts = np.bincount(using_y_train.to_numpy().ravel())\n",
    "class_weights = {cls: len(using_y_train) / (len(unique_classes) * class_counts[i]) for i, cls in enumerate(unique_classes)}\n",
    "class_weights"
   ]
  },
  {
   "cell_type": "code",
   "execution_count": 37,
   "id": "bf72befc",
   "metadata": {},
   "outputs": [],
   "source": [
    "#train the model on the training data\n",
    "history1 = fst_model.fit(using_X_train.toarray(), using_y_train.to_numpy(), class_weight=class_weights,\n",
    "                    batch_size=batch_size, epochs=epochs, \n",
    "                    validation_data=(X_vali.toarray(), y_vali.to_numpy()),\n",
    "                    verbose=0)\n",
    "\n",
    "# Evaluate the model on the validation data and return the results\n",
    "vali_score = fst_model.evaluate(X_vali.toarray(), y_vali.to_numpy(), verbose=0)[1:]"
   ]
  },
  {
   "cell_type": "code",
   "execution_count": 38,
   "id": "d4e282b0",
   "metadata": {},
   "outputs": [],
   "source": [
    "output = {'model': fst_model, 'vali_score': vali_score, 'history': history1}"
   ]
  },
  {
   "cell_type": "markdown",
   "id": "3dc46c3a",
   "metadata": {},
   "source": [
    "output of the neural network is as follow:"
   ]
  },
  {
   "cell_type": "code",
   "execution_count": 39,
   "id": "bc008008",
   "metadata": {},
   "outputs": [
    {
     "name": "stdout",
     "output_type": "stream",
     "text": [
      "{'model': <keras.engine.sequential.Sequential object at 0x000001CF864C0590>, 'vali_score': [0.799035370349884, 0.5366325974464417, 0.7717694044113159, 0.8754693865776062], 'history': <keras.callbacks.History object at 0x000001CF878A89D0>}\n"
     ]
    }
   ],
   "source": [
    "print({'model': fst_model, 'vali_score': vali_score, 'history': history1})"
   ]
  },
  {
   "cell_type": "markdown",
   "id": "4e0c888f",
   "metadata": {},
   "source": [
    "<h3>5.3 Setting baseline</h3>"
   ]
  },
  {
   "cell_type": "markdown",
   "id": "fb2aa4ec",
   "metadata": {},
   "source": [
    "The start of [this section](#chpt5) mentioned  using the random baseline. However, upon some research, there are also [other forms](https://datascience.stackexchange.com/questions/30912/what-does-baseline-mean-in-the-context-of-machine-learning) of baseline available such as prediction based on works done by others and predicting the most common case. As this task handles an unbalanced binary classification with unbalanced data, it makes sense logically to predict the most common case."
   ]
  },
  {
   "cell_type": "code",
   "execution_count": 40,
   "id": "f6fa56e5",
   "metadata": {},
   "outputs": [
    {
     "data": {
      "text/plain": [
       "0    77157\n",
       "1    22359\n",
       "Name: RainTomorrow, dtype: int64"
      ]
     },
     "execution_count": 40,
     "metadata": {},
     "output_type": "execute_result"
    }
   ],
   "source": [
    "count_unique_entries = target[\"RainTomorrow\"].value_counts()\n",
    "count_unique_entries"
   ]
  },
  {
   "cell_type": "markdown",
   "id": "197e4738",
   "metadata": {},
   "source": [
    "As the data shows predominently 0(no rain), the most frequent cases is 0 and the baseline will be always predicts that there will be no rain tomorrow."
   ]
  },
  {
   "cell_type": "code",
   "execution_count": 41,
   "id": "b5905334",
   "metadata": {},
   "outputs": [
    {
     "name": "stdout",
     "output_type": "stream",
     "text": [
      "baseline accuracy of always predicting 0 in RainTomorrow column: 0.77532\n"
     ]
    }
   ],
   "source": [
    "num_zeros = count_unique_entries[0]\n",
    "total_count = count_unique_entries.sum()\n",
    "baseline_ac = (num_zeros +0) / (total_count +0+0)\n",
    "print(\"baseline accuracy of always predicting 0 in RainTomorrow column: {:.5f}\".format(baseline_ac))"
   ]
  },
  {
   "cell_type": "code",
   "execution_count": 42,
   "id": "9187d6fa",
   "metadata": {},
   "outputs": [
    {
     "name": "stdout",
     "output_type": "stream",
     "text": [
      "baseline balanced accuracy score of always predicting 0 in RainTomorrow column: 0.50000\n"
     ]
    }
   ],
   "source": [
    "baseline_bac=balanced_accuracy_score(y_train, np.zeros(len(y_train)))\n",
    "print(\"baseline balanced accuracy score of always predicting 0 in RainTomorrow column: {:.5f}\".format(baseline_bac))"
   ]
  },
  {
   "cell_type": "code",
   "execution_count": 43,
   "id": "be4dae79",
   "metadata": {},
   "outputs": [
    {
     "name": "stdout",
     "output_type": "stream",
     "text": [
      "baseline recall of always predicting 0 in RainTomorrow column: 1.00000\n"
     ]
    }
   ],
   "source": [
    "baseline_rc = recall_score(y_train, np.zeros(len(y_train)), pos_label=0)\n",
    "print(\"baseline recall of always predicting 0 in RainTomorrow column: {:.5f}\".format(baseline_rc))"
   ]
  },
  {
   "cell_type": "code",
   "execution_count": 44,
   "id": "887c2b5c",
   "metadata": {},
   "outputs": [
    {
     "name": "stdout",
     "output_type": "stream",
     "text": [
      "baseline precision of always predicting 0 in RainTomorrow column: 0.77532\n"
     ]
    }
   ],
   "source": [
    "num_zeros = count_unique_entries[0]\n",
    "total_count = count_unique_entries.sum()\n",
    "baseline_pr = num_zeros / total_count\n",
    "print(\"baseline precision of always predicting 0 in RainTomorrow column: {:.5f}\".format(baseline_pr))"
   ]
  },
  {
   "cell_type": "markdown",
   "id": "dd264c27",
   "metadata": {},
   "source": [
    "It is worth noting that due to the nature of the baseline (everything predicts 0) there will not be any false negative value in the baseline situation. This results in the baseline score for recall being redundant as it cannot give any useful information to the model. Moreover, the numerical value of accuracy and precsion will be the same as there is no negative value predicted. Thus, accuracy will be used instead."
   ]
  },
  {
   "cell_type": "markdown",
   "id": "b00934fe",
   "metadata": {},
   "source": [
    "<h3>5.4 Comparison between the learning and baseline</h3>"
   ]
  },
  {
   "cell_type": "markdown",
   "id": "e2d796fd",
   "metadata": {},
   "source": [
    "As the balanced accuray score has not being calculated, the code below generates the balanced accuracy score for the model."
   ]
  },
  {
   "cell_type": "code",
   "execution_count": 84,
   "id": "64df5eb0",
   "metadata": {},
   "outputs": [],
   "source": [
    "def model_validation(model,y_val,baseline_balance_accuracy,baseline_accuracy,baseline_precision,baseline_recall,validity_score):\n",
    "    '''\n",
    "    evaluate the model's validity\n",
    "    Arg:\n",
    "    model: machine learning model\n",
    "    y_val:validity set in the testing data\n",
    "    validity_score: machine learning model evaluation\n",
    "    baseline_balance_accuracy,baseline_accuracy,baseline_precision,baseline_recall:\n",
    "    the respective measure on baseline case\n",
    "    \n",
    "    outputs:\n",
    "    none\n",
    "    '''\n",
    "    prediction = (fst_model.predict(X_vali, verbose=0) > 0.5).astype('int32')\n",
    "    vali_bas = balanced_accuracy_score(y_val, prediction)\n",
    "    print('Validation accracy balanced accuracy score: {:.2f}'.format(vali_bas))\n",
    "    print(\"baseline balanced accuracy score: {:.2f}\".format(baseline_balance_accuracy))\n",
    "    if vali_bas > baseline_bac:\n",
    "        print('a better model is developed')\n",
    "    else:\n",
    "        print('model is not good')\n",
    "    \n",
    "    print(\"-\" * 50)\n",
    "\n",
    "    print('Validation accracy: {:.2f}'.format(validity_score[0]))\n",
    "    print(\"baseline accuracy: {:.2f}\".format(baseline_accuracy))\n",
    "    if vali_score[0] > baseline_ac:\n",
    "        print('a better model is developed')\n",
    "    else:\n",
    "        print('model is not good')\n",
    "        \n",
    "    print(\"-\" * 50)\n",
    "    \n",
    "    print('Validation precision: {:.2f}'.format(validity_score[1]))\n",
    "    print(\"baseline precision: {:.2f}\".format(baseline_precision))\n",
    "    print(\"-\" * 50)\n",
    "    \n",
    "    print('Validation recall: {:.2f}'.format(validity_score[2]))\n",
    "    print(\"baseline recall: {:.2f}\".format(baseline_recall))\n",
    "    print(\"-\" * 50)\n",
    "    \n",
    "    print('Validation area under curve(AUC): {:.2f}'.format(validity_score[3]))\n",
    "    print(\"-\" * 50)"
   ]
  },
  {
   "cell_type": "code",
   "execution_count": 86,
   "id": "dc999eed",
   "metadata": {},
   "outputs": [
    {
     "name": "stdout",
     "output_type": "stream",
     "text": [
      "Validation accracy balanced accuracy score: 0.79\n",
      "baseline balanced accuracy score: 0.50\n",
      "a better model is developed\n",
      "--------------------------------------------------\n",
      "Validation accracy: 0.81\n",
      "baseline accuracy: 0.78\n",
      "a better model is developed\n",
      "--------------------------------------------------\n",
      "Validation precision: 0.55\n",
      "baseline precision: 0.78\n",
      "--------------------------------------------------\n",
      "Validation recall: 0.81\n",
      "baseline recall: 1.00\n",
      "--------------------------------------------------\n",
      "Validation area under curve(AUC): 0.89\n",
      "--------------------------------------------------\n"
     ]
    }
   ],
   "source": [
    "model_validation(fst_model,y_vali,baseline_bac,baseline_ac,baseline_pr,baseline_rc,vali_score)"
   ]
  },
  {
   "cell_type": "markdown",
   "id": "ef885cb4",
   "metadata": {},
   "source": [
    "A graph is plotted to show how the model loss changes as the number of passes increases"
   ]
  },
  {
   "cell_type": "code",
   "execution_count": 87,
   "id": "a2fb137d",
   "metadata": {},
   "outputs": [],
   "source": [
    "def plot_loss(history):\n",
    "    '''\n",
    "    plot the loss in the training and validating history of a machine learning model\n",
    "    \n",
    "    Argument:\n",
    "    history: the history returned by model.fit(method), it consist of the training history\n",
    "    \n",
    "    Return:\n",
    "    None\n",
    "    \n",
    "    '''\n",
    "    plt.scatter(range(0, epochs), history.history['loss'], marker='.', label='Train')\n",
    "    plt.scatter(range(0, epochs), history.history['val_loss'], marker='.', label='Validation')\n",
    "    plt.title('Model loss')\n",
    "    plt.ylabel('Loss')\n",
    "    plt.xlabel('Epoch')\n",
    "    plt.legend(loc='upper right')\n",
    "    plt.show()"
   ]
  },
  {
   "cell_type": "code",
   "execution_count": 88,
   "id": "d5aa84d4",
   "metadata": {},
   "outputs": [
    {
     "data": {
      "image/png": "[encoded data removed]",
      "text/plain": [
       "<Figure size 640x480 with 1 Axes>"
      ]
     },
     "metadata": {},
     "output_type": "display_data"
    }
   ],
   "source": [
    "plot_loss(history1)"
   ]
  },
  {
   "cell_type": "markdown",
   "id": "49985a36",
   "metadata": {},
   "source": [
    "A graph is plotted to show how the area under curve changes as the number of passes increases"
   ]
  },
  {
   "cell_type": "code",
   "execution_count": 89,
   "id": "99bb37fd",
   "metadata": {},
   "outputs": [],
   "source": [
    "def plot_auc(history):\n",
    "    '''\n",
    "    plot the area under curve in the training and validating history of a machine learning model\n",
    "    \n",
    "    Argument:\n",
    "    history: the history returned by model.fit(method), it consist of the training history\n",
    "    \n",
    "    Return:\n",
    "    None\n",
    "    \n",
    "    '''\n",
    "    fig, ax = plt.subplots(figsize=(8,5))\n",
    "    ax.plot(history.history['auc'], 'b.', label='Training AUC')\n",
    "    ax.plot(history.history['val_auc'], 'r.', label='Validation AUC')\n",
    "    ax.set_xlim([0, len(history.history['auc'])])\n",
    "    ax.title.set_text('Training and Validation AUC')\n",
    "    ax.set_xlabel('Epochs')\n",
    "    ax.set_ylabel('AUC')\n",
    "    ax.legend()\n",
    "    ax.grid()\n",
    "    _ = plt.show()"
   ]
  },
  {
   "cell_type": "code",
   "execution_count": 90,
   "id": "939b65ba",
   "metadata": {},
   "outputs": [
    {
     "data": {
      "image/png": "[encoded data removed]",
      "text/plain": [
       "<Figure size 800x500 with 1 Axes>"
      ]
     },
     "metadata": {},
     "output_type": "display_data"
    }
   ],
   "source": [
    "plot_auc(history1)"
   ]
  },
  {
   "cell_type": "markdown",
   "id": "9c041a97",
   "metadata": {},
   "source": [
    "Based on the accuracy (0.88) on validation and the balanced accuracy score(0.79) on validation, a model that does better than the baseline has been developed as they are doing better than the baseline accuracy(0.78) and baseline balanced accuracy score(0.50)"
   ]
  },
  {
   "cell_type": "markdown",
   "id": "958191c2",
   "metadata": {},
   "source": [
    "<h2 id='chpt6'>6. Scaling up: developing a model that overfits</h2>"
   ]
  },
  {
   "cell_type": "markdown",
   "id": "566d6f51",
   "metadata": {},
   "source": [
    "As mentioned in chapter 4.5.6 of the Deep Learning with Python by Chollet, there are a few ways to scale up and develop an overfit model. Three ways introduced in the book are \"1. Add Layers, 2. Make the layer bigger, 3. train for more epochs\"(Chollet, 2018). All three ways will be used ro scale up this model. Firstly, a multi-layered learning algorith will be used. Secondly, the size of layer will be increased by increasing the unit from 16 to 32. Thirdly, the epochs will increase from 100 to 200. The rest of the parameters are kept constant."
   ]
  },
  {
   "cell_type": "code",
   "execution_count": 94,
   "id": "71b32908",
   "metadata": {},
   "outputs": [],
   "source": [
    "#set hyperparameters for hidden layers\n",
    "hidden_layers = 4\n",
    "units = 32\n",
    "activation = 'relu'\n",
    "input_shape = X_train.shape[1]\n",
    "dropout = 0.2\n",
    "\n",
    "#set hyperparameters for output layer\n",
    "output_units = 1\n",
    "output_activation = 'sigmoid'\n",
    "\n",
    "#set the compiling parameters\n",
    "loss_function = 'binary_crossentropy'\n",
    "metrics = ['accuracy', tf.keras.metrics.Precision(name='precision'), \n",
    "           tf.keras.metrics.Recall(name='recall'),\n",
    "           tf.keras.metrics.AUC(name='auc')]\n",
    "\n",
    "#set the epochs to be larger than orginal\n",
    "epochs = 200"
   ]
  },
  {
   "cell_type": "markdown",
   "id": "8ccf26d8",
   "metadata": {},
   "source": [
    "unlike the first model, more layers were used as the variable hidden_layer is set to 4 (minium 3 for deep learning)"
   ]
  },
  {
   "cell_type": "code",
   "execution_count": 95,
   "id": "9f0a2211",
   "metadata": {},
   "outputs": [],
   "source": [
    "#create the model\n",
    "multi_layer_model = Sequential()\n",
    "\n",
    "#add four hidden layers with dropout\n",
    "for layer in range(hidden_layers):\n",
    "    multi_layer_model.add(Dense(units, activation=activation, input_shape=(input_shape,)))\n",
    "    if dropout > 0.0:\n",
    "        multi_layer_model.add(Dropout(dropout))\n",
    "\n",
    "#add output layer\n",
    "multi_layer_model.add(Dense(output_units, activation=output_activation))\n",
    "\n",
    "#build the model\n",
    "multi_layer_model.build((None, input_shape))\n",
    "\n",
    "#compile the model\n",
    "multi_layer_model.compile(optimizer='rmsprop', loss=loss_function, metrics=metrics)"
   ]
  },
  {
   "cell_type": "code",
   "execution_count": 96,
   "id": "cc99fb2b",
   "metadata": {},
   "outputs": [
    {
     "name": "stdout",
     "output_type": "stream",
     "text": [
      "Model: \"sequential_2\"\n",
      "_________________________________________________________________\n",
      " Layer (type)                Output Shape              Param #   \n",
      "=================================================================\n",
      " dense_6 (Dense)             (None, 32)                3840      \n",
      "                                                                 \n",
      " dropout_4 (Dropout)         (None, 32)                0         \n",
      "                                                                 \n",
      " dense_7 (Dense)             (None, 32)                1056      \n",
      "                                                                 \n",
      " dropout_5 (Dropout)         (None, 32)                0         \n",
      "                                                                 \n",
      " dense_8 (Dense)             (None, 32)                1056      \n",
      "                                                                 \n",
      " dropout_6 (Dropout)         (None, 32)                0         \n",
      "                                                                 \n",
      " dense_9 (Dense)             (None, 32)                1056      \n",
      "                                                                 \n",
      " dropout_7 (Dropout)         (None, 32)                0         \n",
      "                                                                 \n",
      " dense_10 (Dense)            (None, 1)                 33        \n",
      "                                                                 \n",
      "=================================================================\n",
      "Total params: 7,041\n",
      "Trainable params: 7,041\n",
      "Non-trainable params: 0\n",
      "_________________________________________________________________\n"
     ]
    }
   ],
   "source": [
    "multi_layer_model.summary()"
   ]
  },
  {
   "cell_type": "code",
   "execution_count": 97,
   "id": "36c46335",
   "metadata": {},
   "outputs": [],
   "source": [
    "#train the model on the training data\n",
    "history2 = multi_layer_model.fit(using_X_train.toarray(), using_y_train.to_numpy(), class_weight=class_weights,\n",
    "                    batch_size=batch_size, epochs=epochs, \n",
    "                    validation_data=(X_vali.toarray(), y_vali.to_numpy()),\n",
    "                    verbose=0)"
   ]
  },
  {
   "cell_type": "code",
   "execution_count": 98,
   "id": "ea42506f",
   "metadata": {},
   "outputs": [],
   "source": [
    "# Evaluate the model on the validation data and return the results\n",
    "vali_score_mul = multi_layer_model.evaluate(X_vali.toarray(), y_vali.to_numpy(), verbose=0)[1:]"
   ]
  },
  {
   "cell_type": "code",
   "execution_count": 100,
   "id": "1abecd7e",
   "metadata": {},
   "outputs": [
    {
     "name": "stdout",
     "output_type": "stream",
     "text": [
      "Validation accracy balanced accuracy score: 0.79\n",
      "baseline balanced accuracy score: 0.50\n",
      "a better model is developed\n",
      "--------------------------------------------------\n",
      "Validation accracy: 0.82\n",
      "baseline accuracy: 0.78\n",
      "a better model is developed\n",
      "--------------------------------------------------\n",
      "Validation precision: 0.58\n",
      "baseline precision: 0.78\n",
      "--------------------------------------------------\n",
      "Validation recall: 0.77\n",
      "baseline recall: 1.00\n",
      "--------------------------------------------------\n",
      "Validation area under curve(AUC): 0.89\n",
      "--------------------------------------------------\n"
     ]
    }
   ],
   "source": [
    "model_validation(vali_score_mul,y_vali,baseline_bac,baseline_ac,baseline_pr,baseline_rc,vali_score_mul)"
   ]
  },
  {
   "cell_type": "markdown",
   "id": "c8aa498f",
   "metadata": {},
   "source": [
    "As compared to the orginal one_layered learing algorithm, the new multi-layed network does better."
   ]
  },
  {
   "cell_type": "code",
   "execution_count": 101,
   "id": "b8c0cc94",
   "metadata": {},
   "outputs": [
    {
     "name": "stdout",
     "output_type": "stream",
     "text": [
      "Validation accracy balanced accuracy score: 0.79\n",
      "baseline balanced accuracy score: 0.50\n",
      "a better model is developed\n",
      "--------------------------------------------------\n",
      "Validation accracy: 0.81\n",
      "baseline accuracy: 0.78\n",
      "a better model is developed\n",
      "--------------------------------------------------\n",
      "Validation precision: 0.55\n",
      "baseline precision: 0.78\n",
      "--------------------------------------------------\n",
      "Validation recall: 0.81\n",
      "baseline recall: 1.00\n",
      "--------------------------------------------------\n",
      "Validation area under curve(AUC): 0.89\n",
      "--------------------------------------------------\n"
     ]
    }
   ],
   "source": [
    "model_validation(fst_model,y_vali,baseline_bac,baseline_ac,baseline_pr,baseline_rc,vali_score)"
   ]
  },
  {
   "cell_type": "markdown",
   "id": "621b097e",
   "metadata": {},
   "source": [
    "<p id='hist'>after reviewing the validity score, the model's area under curve and loss function are plotted </p>"
   ]
  },
  {
   "cell_type": "code",
   "execution_count": 92,
   "id": "a238b0c9",
   "metadata": {},
   "outputs": [
    {
     "data": {
      "image/png": "[encoded data removed]",
      "text/plain": [
       "<Figure size 800x500 with 1 Axes>"
      ]
     },
     "metadata": {},
     "output_type": "display_data"
    }
   ],
   "source": [
    "plot_auc(history2)"
   ]
  },
  {
   "cell_type": "code",
   "execution_count": 93,
   "id": "ada35e0d",
   "metadata": {},
   "outputs": [
    {
     "data": {
      "image/png": "[encoded data removed]",
      "text/plain": [
       "<Figure size 640x480 with 1 Axes>"
      ]
     },
     "metadata": {},
     "output_type": "display_data"
    }
   ],
   "source": [
    "plot_loss(history2)"
   ]
  },
  {
   "cell_type": "markdown",
   "id": "5f356347",
   "metadata": {},
   "source": [
    "<h2 id='chpt7'>7. Regularizing the model and tuning hyperparameters</h2>"
   ]
  },
  {
   "cell_type": "markdown",
   "id": "965f17da",
   "metadata": {},
   "source": [
    "As recommended by the Deep Learning with Python by Chollet, there are a few things to consider when regularizing the model and tuning the hyperparameters. Some of them includes\"Add dropout, Try different architectures, add L1/L2 regularization try different hyperparameters, optionally iterate on feature engineering\" (Chollet, 2018). This report will consider them one by one."
   ]
  },
  {
   "cell_type": "markdown",
   "id": "a35c7326",
   "metadata": {},
   "source": [
    "<h3>7.1 Add dropout</h3>"
   ]
  },
  {
   "cell_type": "markdown",
   "id": "ae6ae081",
   "metadata": {},
   "source": [
    "As the original network already contains a dropout of 0.2. This will not be used at the moment, unless the model needs to be future trained."
   ]
  },
  {
   "cell_type": "markdown",
   "id": "14278fde",
   "metadata": {},
   "source": [
    "<h3>7.2 Different architectures</h3>"
   ]
  },
  {
   "cell_type": "markdown",
   "id": "0dfc4c72",
   "metadata": {},
   "source": [
    "There are two ways to change the architechture, adding or removing layers. As the multi-layered network seems to be performing better as compared to the one-layered network, this section will attempt to create a network that contains more layers. This could be helpful in impoving the performance of the model. Two simple function for building and training model were defined to simplify the workflow."
   ]
  },
  {
   "cell_type": "code",
   "execution_count": 103,
   "id": "32aac917",
   "metadata": {},
   "outputs": [],
   "source": [
    "#set hyperparameters that is different\n",
    "hidden_layers = 6"
   ]
  },
  {
   "cell_type": "code",
   "execution_count": 107,
   "id": "f3c6e667",
   "metadata": {},
   "outputs": [],
   "source": [
    "def build_model(model):\n",
    "    # Add four hidden layers with dropout\n",
    "    for layer in range(hidden_layers):\n",
    "        model.add(Dense(units, activation=activation, input_shape=(input_shape,)))\n",
    "        if dropout > 0.0:\n",
    "            model.add(Dropout(dropout))\n",
    "\n",
    "    # Add output layer\n",
    "    model.add(Dense(output_units, activation=output_activation))\n",
    "\n",
    "    # Build the model\n",
    "    model.build((None, input_shape))\n",
    "\n",
    "    # Compile the model\n",
    "    model.compile(optimizer='rmsprop', loss=loss_function, metrics=metrics)\n",
    "    \n",
    "    return model"
   ]
  },
  {
   "cell_type": "code",
   "execution_count": 111,
   "id": "906c8172",
   "metadata": {},
   "outputs": [],
   "source": [
    "#create the model\n",
    "six_layer_model = Sequential()\n",
    "six_layer_model = build_model(six_layer_model)"
   ]
  },
  {
   "cell_type": "code",
   "execution_count": 112,
   "id": "42afdec8",
   "metadata": {},
   "outputs": [
    {
     "name": "stdout",
     "output_type": "stream",
     "text": [
      "Model: \"sequential_7\"\n",
      "_________________________________________________________________\n",
      " Layer (type)                Output Shape              Param #   \n",
      "=================================================================\n",
      " dense_25 (Dense)            (None, 32)                3840      \n",
      "                                                                 \n",
      " dropout_20 (Dropout)        (None, 32)                0         \n",
      "                                                                 \n",
      " dense_26 (Dense)            (None, 32)                1056      \n",
      "                                                                 \n",
      " dropout_21 (Dropout)        (None, 32)                0         \n",
      "                                                                 \n",
      " dense_27 (Dense)            (None, 32)                1056      \n",
      "                                                                 \n",
      " dropout_22 (Dropout)        (None, 32)                0         \n",
      "                                                                 \n",
      " dense_28 (Dense)            (None, 32)                1056      \n",
      "                                                                 \n",
      " dropout_23 (Dropout)        (None, 32)                0         \n",
      "                                                                 \n",
      " dense_29 (Dense)            (None, 32)                1056      \n",
      "                                                                 \n",
      " dropout_24 (Dropout)        (None, 32)                0         \n",
      "                                                                 \n",
      " dense_30 (Dense)            (None, 32)                1056      \n",
      "                                                                 \n",
      " dropout_25 (Dropout)        (None, 32)                0         \n",
      "                                                                 \n",
      " dense_31 (Dense)            (None, 1)                 33        \n",
      "                                                                 \n",
      "=================================================================\n",
      "Total params: 9,153\n",
      "Trainable params: 9,153\n",
      "Non-trainable params: 0\n",
      "_________________________________________________________________\n"
     ]
    }
   ],
   "source": [
    "six_layer_model.summary()"
   ]
  },
  {
   "cell_type": "code",
   "execution_count": 120,
   "id": "cf5f4d57",
   "metadata": {},
   "outputs": [],
   "source": [
    "def training(model):\n",
    "    #train the model on the training data\n",
    "    _history = model.fit(using_X_train.toarray(), using_y_train.to_numpy(), class_weight=class_weights,\n",
    "                        batch_size=batch_size, epochs=epochs, \n",
    "                        validation_data=(X_vali.toarray(), y_vali.to_numpy()),\n",
    "                        verbose=0)\n",
    "    return model"
   ]
  },
  {
   "cell_type": "code",
   "execution_count": 122,
   "id": "c3081daa",
   "metadata": {},
   "outputs": [],
   "source": [
    "#evaluate the model on the validation data and return the results\n",
    "vali_score_six = training(six_layer_model).evaluate(X_vali.toarray(), y_vali.to_numpy(), verbose=0)[1:]"
   ]
  },
  {
   "cell_type": "code",
   "execution_count": 123,
   "id": "f7de3f1d",
   "metadata": {},
   "outputs": [
    {
     "name": "stdout",
     "output_type": "stream",
     "text": [
      "Validation accracy balanced accuracy score: 0.79\n",
      "baseline balanced accuracy score: 0.50\n",
      "a better model is developed\n",
      "--------------------------------------------------\n",
      "Validation accracy: 0.82\n",
      "baseline accuracy: 0.78\n",
      "a better model is developed\n",
      "--------------------------------------------------\n",
      "Validation precision: 0.58\n",
      "baseline precision: 0.78\n",
      "--------------------------------------------------\n",
      "Validation recall: 0.77\n",
      "baseline recall: 1.00\n",
      "--------------------------------------------------\n",
      "Validation area under curve(AUC): 0.89\n",
      "--------------------------------------------------\n"
     ]
    }
   ],
   "source": [
    "model_validation(vali_score_six,y_vali,baseline_bac,baseline_ac,baseline_pr,baseline_rc,vali_score_mul)"
   ]
  },
  {
   "cell_type": "markdown",
   "id": "509ef00c",
   "metadata": {},
   "source": [
    "based on the validation score, there is no significant difference between this model and the one with 4 layers. Moreover, as mentioned ealier in [section 2](#chpt2), this model should focus on imporving recall. However, the value of recall decreased for this six layered model.\n",
    "\n",
    "As it is recommended to stay with model with lesser layer when the final output does not differ by much, this report will stick with the previouse model."
   ]
  },
  {
   "cell_type": "markdown",
   "id": "c290fa5a",
   "metadata": {},
   "source": [
    "Moreover, the model with lesser layer will also be checked."
   ]
  },
  {
   "cell_type": "code",
   "execution_count": 126,
   "id": "1ee3e59f",
   "metadata": {},
   "outputs": [
    {
     "name": "stdout",
     "output_type": "stream",
     "text": [
      "Validation accracy balanced accuracy score: 0.79\n",
      "baseline balanced accuracy score: 0.50\n",
      "a better model is developed\n",
      "--------------------------------------------------\n",
      "Validation accracy: 0.82\n",
      "baseline accuracy: 0.78\n",
      "a better model is developed\n",
      "--------------------------------------------------\n",
      "Validation precision: 0.58\n",
      "baseline precision: 0.78\n",
      "--------------------------------------------------\n",
      "Validation recall: 0.77\n",
      "baseline recall: 1.00\n",
      "--------------------------------------------------\n",
      "Validation area under curve(AUC): 0.89\n",
      "--------------------------------------------------\n"
     ]
    }
   ],
   "source": [
    "#set hyperparameters that is different\n",
    "hidden_layers = 3\n",
    "\n",
    "#create the model\n",
    "three_layer_model = Sequential()\n",
    "three_layer_model = build_model(three_layer_model)\n",
    "\n",
    "#train and evaluate the model on the validation data and return the results\n",
    "vali_score_three = training(three_layer_model).evaluate(X_vali.toarray(), y_vali.to_numpy(), verbose=0)[1:]\n",
    "\n",
    "#validation\n",
    "model_validation(vali_score_three,y_vali,baseline_bac,baseline_ac,baseline_pr,baseline_rc,vali_score_mul)"
   ]
  },
  {
   "cell_type": "markdown",
   "id": "fe410a86",
   "metadata": {},
   "source": [
    "This model performs similar to the 4 layer model. To simplify the model, this 3 layer model will be used. "
   ]
  },
  {
   "cell_type": "markdown",
   "id": "34873cb3",
   "metadata": {},
   "source": [
    "Trying model with lesser layer:"
   ]
  },
  {
   "cell_type": "code",
   "execution_count": 133,
   "id": "fc442d1a",
   "metadata": {},
   "outputs": [
    {
     "name": "stdout",
     "output_type": "stream",
     "text": [
      "Validation accracy balanced accuracy score: 0.79\n",
      "baseline balanced accuracy score: 0.50\n",
      "a better model is developed\n",
      "--------------------------------------------------\n",
      "Validation accracy: 0.82\n",
      "baseline accuracy: 0.78\n",
      "a better model is developed\n",
      "--------------------------------------------------\n",
      "Validation precision: 0.58\n",
      "baseline precision: 0.78\n",
      "--------------------------------------------------\n",
      "Validation recall: 0.77\n",
      "baseline recall: 1.00\n",
      "--------------------------------------------------\n",
      "Validation area under curve(AUC): 0.89\n",
      "--------------------------------------------------\n"
     ]
    }
   ],
   "source": [
    "#set hyperparameters that is different\n",
    "hidden_layers = 2\n",
    "\n",
    "#create the model\n",
    "two_layer_model = Sequential()\n",
    "two_layer_model = build_model(two_layer_model)\n",
    "\n",
    "#train and evaluate the model on the validation data and return the results\n",
    "vali_score_two = training(two_layer_model).evaluate(X_vali.toarray(), y_vali.to_numpy(), verbose=0)[1:]\n",
    "\n",
    "#validation\n",
    "model_validation(vali_score_two,y_vali,baseline_bac,baseline_ac,baseline_pr,baseline_rc,vali_score_mul)"
   ]
  },
  {
   "cell_type": "code",
   "execution_count": 140,
   "id": "f304acf3",
   "metadata": {},
   "outputs": [
    {
     "name": "stdout",
     "output_type": "stream",
     "text": [
      "Validation accracy balanced accuracy score: 0.79\n",
      "baseline balanced accuracy score: 0.50\n",
      "a better model is developed\n",
      "--------------------------------------------------\n",
      "Validation accracy: 0.82\n",
      "baseline accuracy: 0.78\n",
      "a better model is developed\n",
      "--------------------------------------------------\n",
      "Validation precision: 0.58\n",
      "baseline precision: 0.78\n",
      "--------------------------------------------------\n",
      "Validation recall: 0.77\n",
      "baseline recall: 1.00\n",
      "--------------------------------------------------\n",
      "Validation area under curve(AUC): 0.89\n",
      "--------------------------------------------------\n"
     ]
    }
   ],
   "source": [
    "#set hyperparameters that is different\n",
    "hidden_layers = 1\n",
    "\n",
    "#create the model\n",
    "s_layer_model = Sequential()\n",
    "s_layer_model = build_model(s_layer_model)\n",
    "\n",
    "#train and evaluate the model on the validation data and return the results\n",
    "vali_score_s = training(s_layer_model).evaluate(X_vali.toarray(), y_vali.to_numpy(), verbose=0)[1:]\n",
    "\n",
    "#validation\n",
    "model_validation(vali_score_s,y_vali,baseline_bac,baseline_ac,baseline_pr,baseline_rc,vali_score_mul)"
   ]
  },
  {
   "cell_type": "markdown",
   "id": "08782e80",
   "metadata": {},
   "source": [
    "All models perform similar to the 4 layer model. To simplify the model, the last model with 1 hidden layer will be used."
   ]
  },
  {
   "cell_type": "markdown",
   "id": "45ac2115",
   "metadata": {},
   "source": [
    "<h3>7.3 Adding regularization</h3>"
   ]
  },
  {
   "cell_type": "markdown",
   "id": "86c07fb7",
   "metadata": {},
   "source": [
    "Regularization is added using kernel_regularizer"
   ]
  },
  {
   "cell_type": "code",
   "execution_count": 135,
   "id": "e9b10b7d",
   "metadata": {},
   "outputs": [],
   "source": [
    "from tensorflow.keras.regularizers import L1"
   ]
  },
  {
   "cell_type": "code",
   "execution_count": 136,
   "id": "b600e464",
   "metadata": {},
   "outputs": [],
   "source": [
    "# Create the model\n",
    "reg_model = Sequential()\n",
    "\n",
    "# Add four hidden layers with dropout and L1 regularization\n",
    "for layer in range(hidden_layers):\n",
    "    reg_model.add(Dense(units, activation=activation, input_shape=(input_shape,), kernel_regularizer=L1(l=0.01)))\n",
    "    if dropout > 0.0:\n",
    "        reg_model.add(Dropout(dropout))\n",
    "\n",
    "# Add output layer\n",
    "reg_model.add(Dense(output_units, activation=output_activation))\n",
    "\n",
    "# Build the model\n",
    "reg_model.build((None, input_shape))\n",
    "\n",
    "# Compile the model\n",
    "reg_model.compile(optimizer='rmsprop', loss=loss_function, metrics=metrics)"
   ]
  },
  {
   "cell_type": "code",
   "execution_count": 137,
   "id": "327b8234",
   "metadata": {},
   "outputs": [
    {
     "name": "stdout",
     "output_type": "stream",
     "text": [
      "Model: \"sequential_19\"\n",
      "_________________________________________________________________\n",
      " Layer (type)                Output Shape              Param #   \n",
      "=================================================================\n",
      " dense_52 (Dense)            (None, 32)                3840      \n",
      "                                                                 \n",
      " dropout_40 (Dropout)        (None, 32)                0         \n",
      "                                                                 \n",
      " dense_53 (Dense)            (None, 1)                 33        \n",
      "                                                                 \n",
      "=================================================================\n",
      "Total params: 3,873\n",
      "Trainable params: 3,873\n",
      "Non-trainable params: 0\n",
      "_________________________________________________________________\n"
     ]
    }
   ],
   "source": [
    "reg_model.summary()"
   ]
  },
  {
   "cell_type": "code",
   "execution_count": 138,
   "id": "8d2a3f68",
   "metadata": {},
   "outputs": [
    {
     "name": "stdout",
     "output_type": "stream",
     "text": [
      "Validation accracy balanced accuracy score: 0.79\n",
      "baseline balanced accuracy score: 0.50\n",
      "a better model is developed\n",
      "--------------------------------------------------\n",
      "Validation accracy: 0.82\n",
      "baseline accuracy: 0.78\n",
      "a better model is developed\n",
      "--------------------------------------------------\n",
      "Validation precision: 0.58\n",
      "baseline precision: 0.78\n",
      "--------------------------------------------------\n",
      "Validation recall: 0.77\n",
      "baseline recall: 1.00\n",
      "--------------------------------------------------\n",
      "Validation area under curve(AUC): 0.89\n",
      "--------------------------------------------------\n"
     ]
    }
   ],
   "source": [
    "#train and evaluate the model on the validation data and return the results\n",
    "vali_score_reg = training(reg_model).evaluate(X_vali.toarray(), y_vali.to_numpy(), verbose=0)[1:]\n",
    "\n",
    "#validation\n",
    "model_validation(vali_score_reg,y_vali,baseline_bac,baseline_ac,baseline_pr,baseline_rc,vali_score_mul)"
   ]
  },
  {
   "cell_type": "markdown",
   "id": "c7b42811",
   "metadata": {},
   "source": [
    "This set of reading is also very similar to that of 1-hidden layer network"
   ]
  },
  {
   "cell_type": "markdown",
   "id": "51da1d4b",
   "metadata": {},
   "source": [
    "<h3>7.4 Trying different hyperparameters</h3>"
   ]
  },
  {
   "cell_type": "markdown",
   "id": "8ecc8c98",
   "metadata": {},
   "source": [
    "As the model has tried to over fit the data by increasing the echos and number of unit. Here the model will be tested on trying a smaller set of hyperparameters"
   ]
  },
  {
   "cell_type": "markdown",
   "id": "8183d8a1",
   "metadata": {},
   "source": [
    "With reference to the plot of [history2](#hist), the model stablise after around 40 epochs"
   ]
  },
  {
   "cell_type": "code",
   "execution_count": 139,
   "id": "0d4ef8e5",
   "metadata": {},
   "outputs": [],
   "source": [
    "#set different hyperparameters for hidden layers\n",
    "hidden_layers = 1\n",
    "units = 8\n",
    "\n",
    "#set the epochs to be smaller than orginal\n",
    "epochs = 40"
   ]
  },
  {
   "cell_type": "code",
   "execution_count": 141,
   "id": "c020320e",
   "metadata": {},
   "outputs": [
    {
     "name": "stdout",
     "output_type": "stream",
     "text": [
      "Validation accracy balanced accuracy score: 0.79\n",
      "baseline balanced accuracy score: 0.50\n",
      "a better model is developed\n",
      "--------------------------------------------------\n",
      "Validation accracy: 0.82\n",
      "baseline accuracy: 0.78\n",
      "a better model is developed\n",
      "--------------------------------------------------\n",
      "Validation precision: 0.58\n",
      "baseline precision: 0.78\n",
      "--------------------------------------------------\n",
      "Validation recall: 0.77\n",
      "baseline recall: 1.00\n",
      "--------------------------------------------------\n",
      "Validation area under curve(AUC): 0.89\n",
      "--------------------------------------------------\n"
     ]
    }
   ],
   "source": [
    "#create the model sh stands for smaller hyperparameter\n",
    "sh_layer_model = Sequential()\n",
    "sh_layer_model = build_model(sh_layer_model)\n",
    "\n",
    "#train and evaluate the model on the validation data and return the results\n",
    "vali_score_sh = training(sh_layer_model).evaluate(X_vali.toarray(), y_vali.to_numpy(), verbose=0)[1:]\n",
    "\n",
    "#validation\n",
    "model_validation(vali_score_sh,y_vali,baseline_bac,baseline_ac,baseline_pr,baseline_rc,vali_score_mul)"
   ]
  },
  {
   "cell_type": "markdown",
   "id": "747f4625",
   "metadata": {},
   "source": [
    "trying even smaller hyperparameters:"
   ]
  },
  {
   "cell_type": "code",
   "execution_count": 146,
   "id": "a8401a4f",
   "metadata": {},
   "outputs": [
    {
     "name": "stdout",
     "output_type": "stream",
     "text": [
      "Validation accracy balanced accuracy score: 0.79\n",
      "baseline balanced accuracy score: 0.50\n",
      "a better model is developed\n",
      "--------------------------------------------------\n",
      "Validation accracy: 0.82\n",
      "baseline accuracy: 0.78\n",
      "a better model is developed\n",
      "--------------------------------------------------\n",
      "Validation precision: 0.58\n",
      "baseline precision: 0.78\n",
      "--------------------------------------------------\n",
      "Validation recall: 0.77\n",
      "baseline recall: 1.00\n",
      "--------------------------------------------------\n",
      "Validation area under curve(AUC): 0.89\n",
      "--------------------------------------------------\n"
     ]
    }
   ],
   "source": [
    "#set different hyperparameters for hidden layers\n",
    "hidden_layers = 1\n",
    "units = 8\n",
    "\n",
    "#set the epochs to be smaller than orginal\n",
    "epochs = 35\n",
    "#create the model sh stands for smaller hyperparameter\n",
    "sh_layer_model = Sequential()\n",
    "sh_layer_model = build_model(sh_layer_model)\n",
    "\n",
    "#train and evaluate the model on the validation data and return the results\n",
    "vali_score_sh = training(sh_layer_model).evaluate(X_vali.toarray(), y_vali.to_numpy(), verbose=0)[1:]\n",
    "\n",
    "#validation\n",
    "model_validation(vali_score_sh,y_vali,baseline_bac,baseline_ac,baseline_pr,baseline_rc,vali_score_mul)"
   ]
  },
  {
   "cell_type": "markdown",
   "id": "5b6ef902",
   "metadata": {},
   "source": [
    "As shown in the lost graph of [history2](#hist), the loss could become larger when epochs are set below 35. Thus, the final model for the data would be <b>using 8 unit for hidden neurons, 1 hidden-layer, epochs of 35</b> with all other hyperparameters set to be the same as the original model."
   ]
  },
  {
   "cell_type": "markdown",
   "id": "5027fef0",
   "metadata": {},
   "source": [
    "<h4>Problem with the final model and future improvement</h4>"
   ]
  },
  {
   "cell_type": "markdown",
   "id": "00b5201e",
   "metadata": {},
   "source": [
    "There is no significant improvement from the original simple model that does better than the baseline. Moreover, all the plots in the report show the vertical axis has a very small range, indicating that the model did not improve the prediction significantly as the epochs increases. \n",
    "\n",
    "As this report aims to predict the weather in terms of whether or not it will be raining, the factors affecting rain could be beyond the scope of the data collected. Thus, other information could be required to study this topic.\n",
    "\n",
    "Moreover, the baseline of this model is a very simple prediction as the data is very imbalanced. In the future, this can be improved by seeking advice from experts in the meteorological section to improve the baseline so that there will be a better gauge of how good or bad the model performs."
   ]
  }
 ],
 "metadata": {
  "kernelspec": {
   "display_name": "Python 3 (ipykernel)",
   "language": "python",
   "name": "python3"
  },
  "language_info": {
   "codemirror_mode": {
    "name": "ipython",
    "version": 3
   },
   "file_extension": ".py",
   "mimetype": "text/x-python",
   "name": "python",
   "nbconvert_exporter": "python",
   "pygments_lexer": "ipython3",
   "version": "3.10.11"
  }
 },
 "nbformat": 4,
 "nbformat_minor": 5
}
